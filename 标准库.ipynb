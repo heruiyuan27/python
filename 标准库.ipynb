{
 "cells": [
  {
   "cell_type": "markdown",
   "metadata": {},
   "source": [
    "# 基础"
   ]
  },
  {
   "cell_type": "markdown",
   "metadata": {},
   "source": [
    "### 输入"
   ]
  },
  {
   "cell_type": "code",
   "execution_count": 3,
   "metadata": {},
   "outputs": [
    {
     "data": {
      "text/plain": [
       "str"
      ]
     },
     "execution_count": 3,
     "metadata": {},
     "output_type": "execute_result"
    }
   ],
   "source": [
    "var=input(\"please input sth\")\n",
    "'''\n",
    "python3.x整合raw_input()和input(),\n",
    "去除raw_input(),只保留input()函数,\n",
    "接受任意输入,默认所有输入为文字串处理,返回文字串类型。\n",
    "'''\n",
    "type(var)"
   ]
  },
  {
   "cell_type": "markdown",
   "metadata": {},
   "source": [
    "### 输出"
   ]
  },
  {
   "cell_type": "code",
   "execution_count": 4,
   "metadata": {},
   "outputs": [
    {
     "name": "stdout",
     "output_type": "stream",
     "text": [
      "我是tom，我今年15岁了，我的体重是72.30公斤,我的学号是000001\n"
     ]
    }
   ],
   "source": [
    "name = 'tom'\n",
    "age = 15\n",
    "weight = 72.3\n",
    "stu_id = 1\n",
    "print('我是%s，我今年%d岁了，我的体重是%.2f公斤,我的学号是%06d' % (name, age, weight,stu_id))# 格式化字符串后面的 `()` 本质上就是元组\n",
    "# 格式化输出\n"
   ]
  },
  {
   "cell_type": "code",
   "execution_count": 6,
   "metadata": {},
   "outputs": [
    {
     "name": "stdout",
     "output_type": "stream",
     "text": [
      "1\t2\t3\n",
      "10\t20\t30\n",
      "hello\n",
      "python\n",
      "hello\"hello\n"
     ]
    }
   ],
   "source": [
    "# \\t 在控制台输出一个 制表符，协助在输出文本时 垂直方向 保持对齐\n",
    "print(\"1\\t2\\t3\")\n",
    "print(\"10\\t20\\t30\")\n",
    "\n",
    "# \\n 在控制台输出一个 换行符\n",
    "print(\"hello\\npython\")\n",
    "\n",
    "# \\\" 可以在控制台输出 \"\n",
    "print(\"hello\\\"hello\")"
   ]
  },
  {
   "cell_type": "markdown",
   "metadata": {},
   "source": [
    "### 分支"
   ]
  },
  {
   "cell_type": "code",
   "execution_count": 5,
   "metadata": {},
   "outputs": [
    {
     "name": "stdout",
     "output_type": "stream",
     "text": [
      "玩家选择的是 石头（1） - 电脑出的是 剪刀（2）\n",
      "欧耶，电脑弱爆了！\n"
     ]
    },
    {
     "ename": "ValueError",
     "evalue": "invalid literal for int() with base 10: ''",
     "output_type": "error",
     "traceback": [
      "\u001b[1;31m---------------------------------------------------------------------------\u001b[0m",
      "\u001b[1;31mValueError\u001b[0m                                Traceback (most recent call last)",
      "\u001b[1;32m<ipython-input-5-d2119885d1e1>\u001b[0m in \u001b[0;36m<module>\u001b[1;34m\u001b[0m\n\u001b[0;32m      1\u001b[0m \u001b[1;32mimport\u001b[0m \u001b[0mrandom\u001b[0m\u001b[1;33m\u001b[0m\u001b[1;33m\u001b[0m\u001b[0m\n\u001b[0;32m      2\u001b[0m \u001b[1;32mwhile\u001b[0m\u001b[1;33m(\u001b[0m\u001b[1;36m1\u001b[0m\u001b[1;33m)\u001b[0m\u001b[1;33m:\u001b[0m\u001b[1;33m\u001b[0m\u001b[1;33m\u001b[0m\u001b[0m\n\u001b[1;32m----> 3\u001b[1;33m     \u001b[0mplayer\u001b[0m \u001b[1;33m=\u001b[0m \u001b[0mint\u001b[0m\u001b[1;33m(\u001b[0m\u001b[0minput\u001b[0m\u001b[1;33m(\u001b[0m\u001b[1;34m\"请输入您要出的拳 石头（1）／剪刀（2）／布（3）：\"\u001b[0m\u001b[1;33m)\u001b[0m\u001b[1;33m)\u001b[0m\u001b[1;33m\u001b[0m\u001b[1;33m\u001b[0m\u001b[0m\n\u001b[0m\u001b[0;32m      4\u001b[0m     \u001b[0mcomputer\u001b[0m\u001b[1;33m=\u001b[0m\u001b[0mrandom\u001b[0m\u001b[1;33m.\u001b[0m\u001b[0mrandint\u001b[0m\u001b[1;33m(\u001b[0m\u001b[1;36m1\u001b[0m\u001b[1;33m,\u001b[0m\u001b[1;36m3\u001b[0m\u001b[1;33m)\u001b[0m\u001b[1;33m\u001b[0m\u001b[1;33m\u001b[0m\u001b[0m\n\u001b[0;32m      5\u001b[0m     \u001b[0mdic\u001b[0m\u001b[1;33m=\u001b[0m\u001b[1;33m{\u001b[0m\u001b[1;36m1\u001b[0m\u001b[1;33m:\u001b[0m\u001b[1;34m\"石头\"\u001b[0m\u001b[1;33m,\u001b[0m\u001b[1;36m2\u001b[0m\u001b[1;33m:\u001b[0m\u001b[1;34m\"剪刀\"\u001b[0m\u001b[1;33m,\u001b[0m\u001b[1;36m3\u001b[0m\u001b[1;33m:\u001b[0m\u001b[1;34m\"布\"\u001b[0m\u001b[1;33m}\u001b[0m\u001b[1;33m\u001b[0m\u001b[1;33m\u001b[0m\u001b[0m\n",
      "\u001b[1;31mValueError\u001b[0m: invalid literal for int() with base 10: ''"
     ]
    }
   ],
   "source": [
    "import random\n",
    "while(1):\n",
    "    player = int(input(\"请输入您要出的拳 石头（1）／剪刀（2）／布（3）：\"))\n",
    "    computer=random.randint(1,3)\n",
    "    dic={1:\"石头\",2:\"剪刀\",3:\"布\"}\n",
    "    print(\"玩家选择的是 %s（%d） - 电脑出的是 %s（%d）\" % (dic[player],player, dic[computer],computer))\n",
    "    if player==computer:\n",
    "        print(\"真是心有灵犀啊，再来一盘\")\n",
    "    elif (player==1 and computer==2) or(player==2 and computer==3)or(player==3 and computer==1):\n",
    "        print(\"欧耶，电脑弱爆了！\")\n",
    "    else:\n",
    "        print(\"不服气，我们决战到天明！\")"
   ]
  },
  {
   "cell_type": "markdown",
   "metadata": {},
   "source": [
    "### 循环"
   ]
  },
  {
   "cell_type": "code",
   "execution_count": 8,
   "metadata": {},
   "outputs": [
    {
     "name": "stdout",
     "output_type": "stream",
     "text": [
      "1 * 1 = 1\t\n",
      "1 * 2 = 2\t2 * 2 = 4\t\n",
      "1 * 3 = 3\t2 * 3 = 6\t3 * 3 = 9\t\n",
      "1 * 4 = 4\t2 * 4 = 8\t3 * 4 = 12\t4 * 4 = 16\t\n",
      "1 * 5 = 5\t2 * 5 = 10\t3 * 5 = 15\t4 * 5 = 20\t5 * 5 = 25\t\n",
      "1 * 6 = 6\t2 * 6 = 12\t3 * 6 = 18\t4 * 6 = 24\t5 * 6 = 30\t6 * 6 = 36\t\n",
      "1 * 7 = 7\t2 * 7 = 14\t3 * 7 = 21\t4 * 7 = 28\t5 * 7 = 35\t6 * 7 = 42\t7 * 7 = 49\t\n",
      "1 * 8 = 8\t2 * 8 = 16\t3 * 8 = 24\t4 * 8 = 32\t5 * 8 = 40\t6 * 8 = 48\t7 * 8 = 56\t8 * 8 = 64\t\n",
      "1 * 9 = 9\t2 * 9 = 18\t3 * 9 = 27\t4 * 9 = 36\t5 * 9 = 45\t6 * 9 = 54\t7 * 9 = 63\t8 * 9 = 72\t9 * 9 = 81\t\n"
     ]
    }
   ],
   "source": [
    "for row in range(1,10):\n",
    "    for col in range(1,10):\n",
    "        if (col<=row):\n",
    "            print(\"%d * %d = %d\"%(col,row,col*row),end=\"\\t\")       \n",
    "    print(\"\")\n",
    "    \n",
    "#range(start,end,step) start=0 step=1\n",
    "#前闭后开"
   ]
  },
  {
   "cell_type": "markdown",
   "metadata": {},
   "source": [
    "# 数据类型"
   ]
  },
  {
   "cell_type": "markdown",
   "metadata": {},
   "source": [
    "### list"
   ]
  },
  {
   "cell_type": "code",
   "execution_count": 9,
   "metadata": {},
   "outputs": [],
   "source": [
    "name_list = [\"zhangsan\", \"lisi\", \"wangwu\"]"
   ]
  },
  {
   "cell_type": "code",
   "execution_count": 10,
   "metadata": {},
   "outputs": [
    {
     "data": {
      "text/plain": [
       "3"
      ]
     },
     "execution_count": 10,
     "metadata": {},
     "output_type": "execute_result"
    }
   ],
   "source": [
    "# 长度\n",
    "len(name_list)"
   ]
  },
  {
   "cell_type": "code",
   "execution_count": 11,
   "metadata": {},
   "outputs": [
    {
     "name": "stdout",
     "output_type": "stream",
     "text": [
      "2\n",
      "wangwu\n"
     ]
    }
   ],
   "source": [
    "# 取值/取索引\n",
    "print(name_list.index(\"wangwu\"))#序号\n",
    "print(name_list[2])#序号"
   ]
  },
  {
   "cell_type": "code",
   "execution_count": 12,
   "metadata": {},
   "outputs": [
    {
     "name": "stdout",
     "output_type": "stream",
     "text": [
      "['zhangsan', 'lisi', 'wangwu', '王小二']\n",
      "['zhangsan', 'lisi', 'wangwu']\n"
     ]
    }
   ],
   "source": [
    "# 添加/删除最后一个元素\n",
    "name_list.append(\"王小二\")#列表末尾添加元素\n",
    "print(name_list)\n",
    "name_list.pop()#列表末尾添加元素\n",
    "print(name_list)"
   ]
  },
  {
   "cell_type": "code",
   "execution_count": 13,
   "metadata": {},
   "outputs": [
    {
     "name": "stdout",
     "output_type": "stream",
     "text": [
      "['zhangsan', 'lisi', 'wangwu', '孙悟空', '猪二哥', '沙师弟']\n"
     ]
    }
   ],
   "source": [
    "# 拼接\n",
    "temp_list = [\"孙悟空\", \"猪二哥\", \"沙师弟\"]\n",
    "name_list.extend(temp_list)\n",
    "print(name_list)"
   ]
  },
  {
   "cell_type": "code",
   "execution_count": 14,
   "metadata": {},
   "outputs": [
    {
     "name": "stdout",
     "output_type": "stream",
     "text": [
      "张三出现了 1 次\n"
     ]
    }
   ],
   "source": [
    "# 计数\n",
    "count = name_list.count(\"zhangsan\")#计数\n",
    "print(\"张三出现了 %d 次\" % count)"
   ]
  },
  {
   "cell_type": "markdown",
   "metadata": {},
   "source": [
    "### tuple"
   ]
  },
  {
   "cell_type": "code",
   "execution_count": 15,
   "metadata": {},
   "outputs": [],
   "source": [
    "info_tuple = (\"zhangsan\", 18, 1.75, \"zhangsan\")\n",
    "'''\n",
    "相比于list而言更加安全\n",
    "元素不能修改\n",
    "'''"
   ]
  },
  {
   "cell_type": "code",
   "execution_count": 16,
   "metadata": {},
   "outputs": [
    {
     "data": {
      "text/plain": [
       "4"
      ]
     },
     "execution_count": 16,
     "metadata": {},
     "output_type": "execute_result"
    }
   ],
   "source": [
    "# 长度\n",
    "len(info_tuple)"
   ]
  },
  {
   "cell_type": "code",
   "execution_count": 19,
   "metadata": {},
   "outputs": [
    {
     "name": "stdout",
     "output_type": "stream",
     "text": [
      "zhangsan\n",
      "0\n"
     ]
    }
   ],
   "source": [
    "# 取值/取索引\n",
    "print(info_tuple[0])\n",
    "print(info_tuple.index(\"zhangsan\"))"
   ]
  },
  {
   "cell_type": "code",
   "execution_count": 21,
   "metadata": {},
   "outputs": [
    {
     "name": "stdout",
     "output_type": "stream",
     "text": [
      "张三出现了 2 次\n"
     ]
    }
   ],
   "source": [
    "# 计数\n",
    "count = info_tuple.count(\"zhangsan\")#计数\n",
    "print(\"张三出现了 %d 次\" % count)"
   ]
  },
  {
   "cell_type": "markdown",
   "metadata": {},
   "source": [
    "### dictionary"
   ]
  },
  {
   "cell_type": "code",
   "execution_count": 22,
   "metadata": {},
   "outputs": [],
   "source": [
    "xiaoming_dict = {\"name\": \"小明\",\n",
    "                 \"age\": 18}"
   ]
  },
  {
   "cell_type": "code",
   "execution_count": 23,
   "metadata": {},
   "outputs": [
    {
     "data": {
      "text/plain": [
       "2"
      ]
     },
     "execution_count": 23,
     "metadata": {},
     "output_type": "execute_result"
    }
   ],
   "source": [
    "# 长度\n",
    "len(xiaoming_dict)"
   ]
  },
  {
   "cell_type": "code",
   "execution_count": 24,
   "metadata": {},
   "outputs": [
    {
     "name": "stdout",
     "output_type": "stream",
     "text": [
      "['name', 'age']\n",
      "['小明', 18]\n",
      "[('name', '小明'), ('age', 18)]\n"
     ]
    }
   ],
   "source": [
    "# 键值对\n",
    "keys=list(xiaoming_dict.keys())\n",
    "print(keys)\n",
    "values=list(xiaoming_dict.values())\n",
    "print(values)\n",
    "items=list(xiaoming_dict.items())\n",
    "print(items)"
   ]
  },
  {
   "cell_type": "code",
   "execution_count": 25,
   "metadata": {},
   "outputs": [
    {
     "name": "stdout",
     "output_type": "stream",
     "text": [
      "{'name': '小明', 'age': 20, 'height': 1.75}\n"
     ]
    }
   ],
   "source": [
    "# 拼接\n",
    "temp_dict = {\"height\": 1.75,\n",
    "             \"age\": 20}\n",
    "             \n",
    "# 注意：如果被合并的字典中包含已经存在的键值对，会覆盖原有的键值对\n",
    "xiaoming_dict.update(temp_dict)\n",
    "print(xiaoming_dict)\n",
    "\n"
   ]
  },
  {
   "cell_type": "markdown",
   "metadata": {},
   "source": [
    "# 函数"
   ]
  },
  {
   "cell_type": "markdown",
   "metadata": {},
   "source": [
    "### 多值传参"
   ]
  },
  {
   "cell_type": "code",
   "execution_count": 27,
   "metadata": {},
   "outputs": [
    {
     "name": "stdout",
     "output_type": "stream",
     "text": [
      "1\n",
      "(2, 3, 4, 5)\n",
      "{'name': '小明', 'age': 18}\n"
     ]
    }
   ],
   "source": [
    "def demo(num, *nums, **person):\n",
    "\n",
    "    print(num)\n",
    "    print(nums)\n",
    "    print(person)\n",
    "\n",
    "\n",
    "# demo(1)\n",
    "demo(1, 2, 3, 4, 5, name=\"小明\", age=18)"
   ]
  },
  {
   "cell_type": "markdown",
   "metadata": {},
   "source": [
    "### 传引用"
   ]
  },
  {
   "cell_type": "code",
   "execution_count": 44,
   "metadata": {},
   "outputs": [],
   "source": [
    "def test(num):\n",
    "    print(\"在函数内部 %d 对应的内存地址是 %d\" % (num, id(num)))\n",
    "    print(\"--------------------------------------------------------------------------\")\n",
    "\n",
    "    result = \"Hello\"\n",
    "    print(\"函数返回数据的内存地址是 %d\" % id(result))\n",
    "    return result"
   ]
  },
  {
   "cell_type": "code",
   "execution_count": 46,
   "metadata": {},
   "outputs": [
    {
     "name": "stdout",
     "output_type": "stream",
     "text": [
      "x=10 变量保存数据的内存地址是 1395241440\n",
      "在函数内部 10 对应的内存地址是 1395241440\n",
      "--------------------------------------------------------------------------\n",
      "函数返回数据的内存地址是 1966960349400\n",
      "Hello 的内存地址是 1966960349400\n"
     ]
    }
   ],
   "source": [
    "# 1. 定义一个数字的变量\n",
    "x = 10\n",
    "print(\"x=%d 变量保存数据的内存地址是 %d\" %  ( x,id(x) ) )\n",
    "\n",
    "# 2. 调用 test 函数，本质上传递的是实参保存数据的引用，而不是实参保存的数据！\n",
    "# 注意：如果函数有返回值，但是没有定义变量接收,程序不会报错，但是无法获得返回结果.\n",
    "y = test(x)\n",
    "print(\"%s 的内存地址是 %d\" % (y, id(y)))\n",
    "\n"
   ]
  },
  {
   "cell_type": "markdown",
   "metadata": {},
   "source": [
    "### 全局变量"
   ]
  },
  {
   "cell_type": "code",
   "execution_count": 54,
   "metadata": {},
   "outputs": [],
   "source": [
    "num = 10\n",
    "\n",
    "def demo1():\n",
    "    # 希望修改全局变量的值  -  使用 global 声明一下变量即可\n",
    "    # global 关键字会告诉解释器后面的变量是一个全局变量\n",
    "    # 再使用赋值语句时，则不会创建局部变量\n",
    "    global num\n",
    "    num = 99\n",
    "    print(\"demo1 ==> %d\" % num)"
   ]
  },
  {
   "cell_type": "code",
   "execution_count": 55,
   "metadata": {},
   "outputs": [
    {
     "name": "stdout",
     "output_type": "stream",
     "text": [
      "demo1 ==> 99\n",
      "99\n"
     ]
    }
   ],
   "source": [
    "demo1()\n",
    "print(num)\n"
   ]
  },
  {
   "cell_type": "markdown",
   "metadata": {},
   "source": [
    "# 拷贝"
   ]
  },
  {
   "cell_type": "code",
   "execution_count": 61,
   "metadata": {},
   "outputs": [
    {
     "name": "stdout",
     "output_type": "stream",
     "text": [
      "a =  [1, 2, 3, 4, ['a', 'b', 'c'], 5]\n",
      "b =  [1, 2, 3, 4, ['a', 'b', 'c'], 5]\n",
      "c =  [1, 2, 3, 4, ['a', 'b', 'c']]\n",
      "d =  [1, 2, 3, 4, ['a', 'b']]\n"
     ]
    }
   ],
   "source": [
    "import copy\n",
    "a = [1, 2, 3, 4, ['a', 'b']] #原始对象\n",
    " \n",
    "b = a                       #赋值，传对象的引用\n",
    "c = copy.copy(a)            #对象拷贝，浅拷贝\n",
    "d = copy.deepcopy(a)        #对象拷贝，深拷贝\n",
    " \n",
    "a.append(5)                 #修改对象a\n",
    "a[4].append('c')            #修改对象a中的['a', 'b']数组对象\n",
    " \n",
    "print( 'a = ', a )\n",
    "print( 'b = ', b )\n",
    "print( 'c = ', c )\n",
    "print( 'd = ', d )"
   ]
  },
  {
   "cell_type": "markdown",
   "metadata": {},
   "source": [
    "# 动态内存"
   ]
  },
  {
   "cell_type": "code",
   "execution_count": 62,
   "metadata": {},
   "outputs": [
    {
     "data": {
      "text/plain": [
       "{'__name__': '__main__',\n",
       " '__doc__': '\\npython3.x整合raw_input()和input()，\\n去除raw_input()，只保留input()函数，\\n接受任意输入，默认所有输入为文字串处理，返回文字串类型。\\n',\n",
       " '__package__': None,\n",
       " '__loader__': None,\n",
       " '__spec__': None,\n",
       " '__builtin__': <module 'builtins' (built-in)>,\n",
       " '__builtins__': <module 'builtins' (built-in)>,\n",
       " '_ih': ['',\n",
       "  'var=input(\"please input sth\")',\n",
       "  'type(var)',\n",
       "  'var=input(\"please input sth\")\\n\\'\\'\\'\\npython3.x整合raw_input()和input()，\\n去除raw_input()，只保留input()函数，\\n接受任意输入，默认所有输入为文字串处理，返回文字串类型。\\n\\'\\'\\'\\ntype(var)',\n",
       "  \"name = 'tom'\\nage = 15\\nweight = 72.3\\nstu_id = 1\\nprint('我是%s，我今年%d岁了，我的体重是%.2f公斤,我的学号是%06d' % (name, age, weight,stu_id))\\n#我是tom，我今年15岁了，我的体重是72.30公斤,我的学号是000001\",\n",
       "  'import random\\nwhile(1):\\n    player = int(input(\"请输入您要出的拳 石头（1）／剪刀（2）／布（3）：\"))\\n    computer=random.randint(1,3)\\n    dic={1:\"石头\",2:\"剪刀\",3:\"布\"}\\n    print(\"玩家选择的是 %s（%d） - 电脑出的是 %s（%d）\" % (dic[player],player, dic[computer],computer))\\n    if player==computer:\\n        print(\"真是心有灵犀啊，再来一盘\")\\n    elif (player==1 and computer==2) or(player==2 and computer==3)or(player==3 and computer==1):\\n        print(\"欧耶，电脑弱爆了！\")\\n    else:\\n        print(\"不服气，我们决战到天明！\")',\n",
       "  '# \\\\t 在控制台输出一个 制表符，协助在输出文本时 垂直方向 保持对齐\\nprint(\"1\\\\t2\\\\t3\")\\nprint(\"10\\\\t20\\\\t30\")\\n\\n# \\\\n 在控制台输出一个 换行符\\nprint(\"hello\\\\npython\")\\n\\n# \\\\\" 可以在控制台输出 \"\\nprint(\"hello\\\\\"hello\")',\n",
       "  'for row in range(1,10):\\n    for col in range(1,10):\\n        if (col<=row):\\n            print(\"%d * %d = %d\"%(col,row,col*row),end=\"   \")       \\n    print(\"\")\\n    \\n#range(start,end,step) start=0 step=1\\n#前闭后开',\n",
       "  'for row in range(1,10):\\n    for col in range(1,10):\\n        if (col<=row):\\n            print(\"%d * %d = %d\"%(col,row,col*row),end=\"\\\\t\")       \\n    print(\"\")\\n    \\n#range(start,end,step) start=0 step=1\\n#前闭后开',\n",
       "  'name_list = [\"zhangsan\", \"lisi\", \"wangwu\"]',\n",
       "  'len(name_list)',\n",
       "  '# 查找\\nprint(name_list.index(\"wangwu\"))#序号\\nprint(name_list[2])#序号',\n",
       "  '# 添加/删除最后一个元素\\nname_list.append(\"王小二\")#列表末尾添加元素\\nprint(name_list)\\nname_list.pop()#列表末尾添加元素\\nprint(name_list)',\n",
       "  '# 拼接列表\\ntemp_list = [\"孙悟空\", \"猪二哥\", \"沙师弟\"]\\nname_list.extend(temp_list)\\nprint(name_list)',\n",
       "  'count = name_list.count(\"zhangsan\")#计数\\nprint(\"张三出现了 %d 次\" % count)',\n",
       "  'info_tuple = (\"zhangsan\", 18, 1.75, \"zhangsan\")',\n",
       "  'len(info_tuple)',\n",
       "  '# 取值/取索引\\nprint(info_tuple[0])\\nprint(info_tuple.index(\"zhangsan\"))',\n",
       "  '# 取值/取索引\\nprint(info_tuple[2])\\nprint(info_tuple.index(\"zhangsan\"))',\n",
       "  '# 取值/取索引\\nprint(info_tuple[0])\\nprint(info_tuple.index(\"zhangsan\"))',\n",
       "  '# 计数\\ncount = name_list.count(\"zhangsan\")#计数\\nprint(\"张三出现了 %d 次\" % count)',\n",
       "  '# 计数\\ncount = info_tuple.count(\"zhangsan\")#计数\\nprint(\"张三出现了 %d 次\" % count)',\n",
       "  'xiaoming_dict = {\"name\": \"小明\",\\n                 \"age\": 18}',\n",
       "  '# 长度\\nlen(xiaoming_dict)',\n",
       "  '# \\nkeys=list(xiaoming_dict.keys())\\nvalues=list(xiaoming_dict.values())\\nitems=list(xiaoming_dict.items())\\nprint(keys)\\nprint(values)\\nprint(items)',\n",
       "  '# 拼接\\ntemp_dict = {\"height\": 1.75,\\n             \"age\": 20}\\n             \\n# 注意：如果被合并的字典中包含已经存在的键值对，会覆盖原有的键值对\\nxiaoming_dict.update(temp_dict)\\nprint(xiaoming_dict)',\n",
       "  '# 如果入参是变量，那么多值参数传递遵循拆包语法\\ndef test(*args, **kwargs):\\n    \\n    print(args)\\n    print(kwargs)\\n \\n \\ntup = (1, 2, 3)\\ndict = {\"name\":\"horizon\"}\\n \\ntest(*tup, **dict)  # 拆包语法',\n",
       "  'def demo(num, *nums, **person):\\n\\n    print(num)\\n    print(nums)\\n    print(person)\\n\\n\\n# demo(1)\\ndemo(1, 2, 3, 4, 5, name=\"小明\", age=18)',\n",
       "  'def test(num):\\n    print(\"在函数内部 %d 对应的内存地址是 %d\" % (num, id(num)))\\n    return num+1',\n",
       "  'test(1)',\n",
       "  'test(1)\\nid(1)',\n",
       "  'a=1\\nb=test(1)',\n",
       "  'a=1\\nb=test(1)\\nid(a)',\n",
       "  'a=1\\nb=test(1)\\nid(a)\\nid(b)',\n",
       "  'a',\n",
       "  \"x=1\\ntest(x)\\n'''\\n本质上传递的是实参保存数据的引用，而不是实参保存的数据！\\n注意：如果函数有返回值，但是没有定义变量接收,程序不会报错，但是无法获得返回结果\\n'''\",\n",
       "  \"x=1\\ntest(x)\\n\\n'''\\n本质上传递的是实参保存数据的引用，而不是实参保存的数据！\\n注意：如果函数有返回值，但是没有定义变量接收,程序不会报错，但是无法获得返回结果\\n'''\",\n",
       "  'x=1\\ntest(x)\\n\\n\\n# 本质上传递的是实参保存数据的引用，而不是实参保存的数据！\\n# 注意：如果函数有返回值，但是没有定义变量接收,程序不会报错，但是无法获得返回结果',\n",
       "  'x=1\\ny=test(x)\\n\\n\\n# 本质上传递的是实参保存数据的引用，而不是实参保存的数据！\\n# 注意：如果函数有返回值，但是没有定义变量接收,程序不会报错，但是无法获得返回结果',\n",
       "  'x=1\\ny=test(x)\\nid(x)\\n\\n\\n# 本质上传递的是实参保存数据的引用，而不是实参保存的数据！\\n# 注意：如果函数有返回值，但是没有定义变量接收,程序不会报错，但是无法获得返回结果',\n",
       "  'x=1\\nid(x)\\nid(1)\\n\\n\\n\\n# 本质上传递的是实参保存数据的引用，而不是实参保存的数据！\\n# 注意：如果函数有返回值，但是没有定义变量接收,程序不会报错，但是无法获得返回结果',\n",
       "  'x=1\\nprint(id(x))\\nprint(id(1))\\n\\n\\n\\n# 本质上传递的是实参保存数据的引用，而不是实参保存的数据！\\n# 注意：如果函数有返回值，但是没有定义变量接收,程序不会报错，但是无法获得返回结果',\n",
       "  'x=1\\nprint(id(x))\\nprint(id(1))\\n\\ny=test(x)\\n\\nprint(id(x))\\nprint(id(1))\\n\\n\\n# 本质上传递的是实参保存数据的引用，而不是实参保存的数据！\\n# 注意：如果函数有返回值，但是没有定义变量接收,程序不会报错，但是无法获得返回结果',\n",
       "  'x=1\\nprint(id(x))\\nprint(id(1))\\n\\ny=test(x)\\n\\nprint(id(x))\\nprint(id(1))\\n\\nprint(id(y))\\nprint(id(2))\\n\\n\\n# 本质上传递的是实参保存数据的引用，而不是实参保存的数据！\\n# 注意：如果函数有返回值，但是没有定义变量接收,程序不会报错，但是无法获得返回结果',\n",
       "  'def test(num):\\n    print(\"在函数内部 %d 对应的内存地址是 %d\" % (num, id(num)))\\n    print(\"--------------------------------------------------------------------------\")\\n\\n    result = \"Hello\"\\n    print(\"函数返回数据的内存地址是 %d\" % id(result))\\n    return result',\n",
       "  '# 1. 定义一个数字的变量\\nx = 10\\nprint(\"x=%d 变量保存数据的内存地址是 %d\" %  ( x,id(x) ) )\\n\\n\\n# 本质上传递的是实参保存数据的引用，而不是实参保存的数据！\\n# 注意：如果函数有返回值，但是没有定义变量接收,程序不会报错，但是无法获得返回结果',\n",
       "  '# 1. 定义一个数字的变量\\nx = 10\\nprint(\"x=%d 变量保存数据的内存地址是 %d\" %  ( x,id(x) ) )\\n\\n# 2. 调用 test 函数，本质上传递的是实参保存数据的引用，而不是实参保存的数据！\\n# 注意：如果函数有返回值，但是没有定义变量接收,程序不会报错，但是无法获得返回结果.\\ny = test(x)\\nprint(\"%s 的内存地址是 %d\" % (y, id(y)))',\n",
       "  'demo2()\\ndemo1()',\n",
       "  'num = 10\\n\\ndef demo2():\\n    num = 99\\n    print(\"demo2 ==> %d\" % num)\\n\\n\\ndef demo1():\\n\\n    # 希望修改全局变量的值 - 使用 global 声明一下变量即可\\n    # global 关键字会告诉解释器后面的变量是一个全局变量\\n    # 再使用赋值语句时，则不会创建局部变量\\n    global num\\n\\n    num = 99\\n\\n    print(\"demo1 ==> %d\" % num)',\n",
       "  'demo2()\\ndemo1()',\n",
       "  'num = 10\\n\\ndef demo1():\\n\\n    # 希望修改全局变量的值  -  使用 global 声明一下变量即可\\n    # global 关键字会告诉解释器后面的变量是一个全局变量\\n    # 再使用赋值语句时，则不会创建局部变量\\n    global num\\n\\n    num = 99\\n\\n    print(\"demo1 ==> %d\" % num)',\n",
       "  'demo1()',\n",
       "  'demo1()\\nnum',\n",
       "  'demo1()\\nprint(num)',\n",
       "  'num = 10\\n\\ndef demo1():\\n    # 希望修改全局变量的值  -  使用 global 声明一下变量即可\\n    # global 关键字会告诉解释器后面的变量是一个全局变量\\n    # 再使用赋值语句时，则不会创建局部变量\\n    global num\\n    num = 99\\n    print(\"demo1 ==> %d\" % num)',\n",
       "  'demo1()\\nprint(num)',\n",
       "  'x=22\\ny=x',\n",
       "  'id(x)\\nid(y)',\n",
       "  'id(y)',\n",
       "  'id(x)',\n",
       "  'x.copy()',\n",
       "  \"import copy\\na = [1, 2, 3, 4, ['a', 'b']] #原始对象\\n \\nb = a                       #赋值，传对象的引用\\nc = copy.copy(a)            #对象拷贝，浅拷贝\\nd = copy.deepcopy(a)        #对象拷贝，深拷贝\\n \\na.append(5)                 #修改对象a\\na[4].append('c')            #修改对象a中的['a', 'b']数组对象\\n \\nprint( 'a = ', a )\\nprint( 'b = ', b )\\nprint( 'c = ', c )\\nprint( 'd = ', d )\",\n",
       "  'globals()'],\n",
       " '_oh': {2: str,\n",
       "  3: str,\n",
       "  10: 3,\n",
       "  16: 4,\n",
       "  23: 2,\n",
       "  29: 2,\n",
       "  30: 1395241152,\n",
       "  32: 1395241152,\n",
       "  33: 1395241184,\n",
       "  34: 1,\n",
       "  35: '\\n本质上传递的是实参保存数据的引用，而不是实参保存的数据！\\n注意：如果函数有返回值，但是没有定义变量接收,程序不会报错，但是无法获得返回结果\\n',\n",
       "  36: '\\n本质上传递的是实参保存数据的引用，而不是实参保存的数据！\\n注意：如果函数有返回值，但是没有定义变量接收,程序不会报错，但是无法获得返回结果\\n',\n",
       "  37: 2,\n",
       "  39: 1395241152,\n",
       "  40: 1395241152,\n",
       "  52: 99,\n",
       "  57: 1395241824,\n",
       "  58: 1395241824,\n",
       "  59: 1395241824},\n",
       " '_dh': ['c:\\\\Users\\\\Hery\\\\Desktop\\\\newpy'],\n",
       " 'In': ['',\n",
       "  'var=input(\"please input sth\")',\n",
       "  'type(var)',\n",
       "  'var=input(\"please input sth\")\\n\\'\\'\\'\\npython3.x整合raw_input()和input()，\\n去除raw_input()，只保留input()函数，\\n接受任意输入，默认所有输入为文字串处理，返回文字串类型。\\n\\'\\'\\'\\ntype(var)',\n",
       "  \"name = 'tom'\\nage = 15\\nweight = 72.3\\nstu_id = 1\\nprint('我是%s，我今年%d岁了，我的体重是%.2f公斤,我的学号是%06d' % (name, age, weight,stu_id))\\n#我是tom，我今年15岁了，我的体重是72.30公斤,我的学号是000001\",\n",
       "  'import random\\nwhile(1):\\n    player = int(input(\"请输入您要出的拳 石头（1）／剪刀（2）／布（3）：\"))\\n    computer=random.randint(1,3)\\n    dic={1:\"石头\",2:\"剪刀\",3:\"布\"}\\n    print(\"玩家选择的是 %s（%d） - 电脑出的是 %s（%d）\" % (dic[player],player, dic[computer],computer))\\n    if player==computer:\\n        print(\"真是心有灵犀啊，再来一盘\")\\n    elif (player==1 and computer==2) or(player==2 and computer==3)or(player==3 and computer==1):\\n        print(\"欧耶，电脑弱爆了！\")\\n    else:\\n        print(\"不服气，我们决战到天明！\")',\n",
       "  '# \\\\t 在控制台输出一个 制表符，协助在输出文本时 垂直方向 保持对齐\\nprint(\"1\\\\t2\\\\t3\")\\nprint(\"10\\\\t20\\\\t30\")\\n\\n# \\\\n 在控制台输出一个 换行符\\nprint(\"hello\\\\npython\")\\n\\n# \\\\\" 可以在控制台输出 \"\\nprint(\"hello\\\\\"hello\")',\n",
       "  'for row in range(1,10):\\n    for col in range(1,10):\\n        if (col<=row):\\n            print(\"%d * %d = %d\"%(col,row,col*row),end=\"   \")       \\n    print(\"\")\\n    \\n#range(start,end,step) start=0 step=1\\n#前闭后开',\n",
       "  'for row in range(1,10):\\n    for col in range(1,10):\\n        if (col<=row):\\n            print(\"%d * %d = %d\"%(col,row,col*row),end=\"\\\\t\")       \\n    print(\"\")\\n    \\n#range(start,end,step) start=0 step=1\\n#前闭后开',\n",
       "  'name_list = [\"zhangsan\", \"lisi\", \"wangwu\"]',\n",
       "  'len(name_list)',\n",
       "  '# 查找\\nprint(name_list.index(\"wangwu\"))#序号\\nprint(name_list[2])#序号',\n",
       "  '# 添加/删除最后一个元素\\nname_list.append(\"王小二\")#列表末尾添加元素\\nprint(name_list)\\nname_list.pop()#列表末尾添加元素\\nprint(name_list)',\n",
       "  '# 拼接列表\\ntemp_list = [\"孙悟空\", \"猪二哥\", \"沙师弟\"]\\nname_list.extend(temp_list)\\nprint(name_list)',\n",
       "  'count = name_list.count(\"zhangsan\")#计数\\nprint(\"张三出现了 %d 次\" % count)',\n",
       "  'info_tuple = (\"zhangsan\", 18, 1.75, \"zhangsan\")',\n",
       "  'len(info_tuple)',\n",
       "  '# 取值/取索引\\nprint(info_tuple[0])\\nprint(info_tuple.index(\"zhangsan\"))',\n",
       "  '# 取值/取索引\\nprint(info_tuple[2])\\nprint(info_tuple.index(\"zhangsan\"))',\n",
       "  '# 取值/取索引\\nprint(info_tuple[0])\\nprint(info_tuple.index(\"zhangsan\"))',\n",
       "  '# 计数\\ncount = name_list.count(\"zhangsan\")#计数\\nprint(\"张三出现了 %d 次\" % count)',\n",
       "  '# 计数\\ncount = info_tuple.count(\"zhangsan\")#计数\\nprint(\"张三出现了 %d 次\" % count)',\n",
       "  'xiaoming_dict = {\"name\": \"小明\",\\n                 \"age\": 18}',\n",
       "  '# 长度\\nlen(xiaoming_dict)',\n",
       "  '# \\nkeys=list(xiaoming_dict.keys())\\nvalues=list(xiaoming_dict.values())\\nitems=list(xiaoming_dict.items())\\nprint(keys)\\nprint(values)\\nprint(items)',\n",
       "  '# 拼接\\ntemp_dict = {\"height\": 1.75,\\n             \"age\": 20}\\n             \\n# 注意：如果被合并的字典中包含已经存在的键值对，会覆盖原有的键值对\\nxiaoming_dict.update(temp_dict)\\nprint(xiaoming_dict)',\n",
       "  '# 如果入参是变量，那么多值参数传递遵循拆包语法\\ndef test(*args, **kwargs):\\n    \\n    print(args)\\n    print(kwargs)\\n \\n \\ntup = (1, 2, 3)\\ndict = {\"name\":\"horizon\"}\\n \\ntest(*tup, **dict)  # 拆包语法',\n",
       "  'def demo(num, *nums, **person):\\n\\n    print(num)\\n    print(nums)\\n    print(person)\\n\\n\\n# demo(1)\\ndemo(1, 2, 3, 4, 5, name=\"小明\", age=18)',\n",
       "  'def test(num):\\n    print(\"在函数内部 %d 对应的内存地址是 %d\" % (num, id(num)))\\n    return num+1',\n",
       "  'test(1)',\n",
       "  'test(1)\\nid(1)',\n",
       "  'a=1\\nb=test(1)',\n",
       "  'a=1\\nb=test(1)\\nid(a)',\n",
       "  'a=1\\nb=test(1)\\nid(a)\\nid(b)',\n",
       "  'a',\n",
       "  \"x=1\\ntest(x)\\n'''\\n本质上传递的是实参保存数据的引用，而不是实参保存的数据！\\n注意：如果函数有返回值，但是没有定义变量接收,程序不会报错，但是无法获得返回结果\\n'''\",\n",
       "  \"x=1\\ntest(x)\\n\\n'''\\n本质上传递的是实参保存数据的引用，而不是实参保存的数据！\\n注意：如果函数有返回值，但是没有定义变量接收,程序不会报错，但是无法获得返回结果\\n'''\",\n",
       "  'x=1\\ntest(x)\\n\\n\\n# 本质上传递的是实参保存数据的引用，而不是实参保存的数据！\\n# 注意：如果函数有返回值，但是没有定义变量接收,程序不会报错，但是无法获得返回结果',\n",
       "  'x=1\\ny=test(x)\\n\\n\\n# 本质上传递的是实参保存数据的引用，而不是实参保存的数据！\\n# 注意：如果函数有返回值，但是没有定义变量接收,程序不会报错，但是无法获得返回结果',\n",
       "  'x=1\\ny=test(x)\\nid(x)\\n\\n\\n# 本质上传递的是实参保存数据的引用，而不是实参保存的数据！\\n# 注意：如果函数有返回值，但是没有定义变量接收,程序不会报错，但是无法获得返回结果',\n",
       "  'x=1\\nid(x)\\nid(1)\\n\\n\\n\\n# 本质上传递的是实参保存数据的引用，而不是实参保存的数据！\\n# 注意：如果函数有返回值，但是没有定义变量接收,程序不会报错，但是无法获得返回结果',\n",
       "  'x=1\\nprint(id(x))\\nprint(id(1))\\n\\n\\n\\n# 本质上传递的是实参保存数据的引用，而不是实参保存的数据！\\n# 注意：如果函数有返回值，但是没有定义变量接收,程序不会报错，但是无法获得返回结果',\n",
       "  'x=1\\nprint(id(x))\\nprint(id(1))\\n\\ny=test(x)\\n\\nprint(id(x))\\nprint(id(1))\\n\\n\\n# 本质上传递的是实参保存数据的引用，而不是实参保存的数据！\\n# 注意：如果函数有返回值，但是没有定义变量接收,程序不会报错，但是无法获得返回结果',\n",
       "  'x=1\\nprint(id(x))\\nprint(id(1))\\n\\ny=test(x)\\n\\nprint(id(x))\\nprint(id(1))\\n\\nprint(id(y))\\nprint(id(2))\\n\\n\\n# 本质上传递的是实参保存数据的引用，而不是实参保存的数据！\\n# 注意：如果函数有返回值，但是没有定义变量接收,程序不会报错，但是无法获得返回结果',\n",
       "  'def test(num):\\n    print(\"在函数内部 %d 对应的内存地址是 %d\" % (num, id(num)))\\n    print(\"--------------------------------------------------------------------------\")\\n\\n    result = \"Hello\"\\n    print(\"函数返回数据的内存地址是 %d\" % id(result))\\n    return result',\n",
       "  '# 1. 定义一个数字的变量\\nx = 10\\nprint(\"x=%d 变量保存数据的内存地址是 %d\" %  ( x,id(x) ) )\\n\\n\\n# 本质上传递的是实参保存数据的引用，而不是实参保存的数据！\\n# 注意：如果函数有返回值，但是没有定义变量接收,程序不会报错，但是无法获得返回结果',\n",
       "  '# 1. 定义一个数字的变量\\nx = 10\\nprint(\"x=%d 变量保存数据的内存地址是 %d\" %  ( x,id(x) ) )\\n\\n# 2. 调用 test 函数，本质上传递的是实参保存数据的引用，而不是实参保存的数据！\\n# 注意：如果函数有返回值，但是没有定义变量接收,程序不会报错，但是无法获得返回结果.\\ny = test(x)\\nprint(\"%s 的内存地址是 %d\" % (y, id(y)))',\n",
       "  'demo2()\\ndemo1()',\n",
       "  'num = 10\\n\\ndef demo2():\\n    num = 99\\n    print(\"demo2 ==> %d\" % num)\\n\\n\\ndef demo1():\\n\\n    # 希望修改全局变量的值 - 使用 global 声明一下变量即可\\n    # global 关键字会告诉解释器后面的变量是一个全局变量\\n    # 再使用赋值语句时，则不会创建局部变量\\n    global num\\n\\n    num = 99\\n\\n    print(\"demo1 ==> %d\" % num)',\n",
       "  'demo2()\\ndemo1()',\n",
       "  'num = 10\\n\\ndef demo1():\\n\\n    # 希望修改全局变量的值  -  使用 global 声明一下变量即可\\n    # global 关键字会告诉解释器后面的变量是一个全局变量\\n    # 再使用赋值语句时，则不会创建局部变量\\n    global num\\n\\n    num = 99\\n\\n    print(\"demo1 ==> %d\" % num)',\n",
       "  'demo1()',\n",
       "  'demo1()\\nnum',\n",
       "  'demo1()\\nprint(num)',\n",
       "  'num = 10\\n\\ndef demo1():\\n    # 希望修改全局变量的值  -  使用 global 声明一下变量即可\\n    # global 关键字会告诉解释器后面的变量是一个全局变量\\n    # 再使用赋值语句时，则不会创建局部变量\\n    global num\\n    num = 99\\n    print(\"demo1 ==> %d\" % num)',\n",
       "  'demo1()\\nprint(num)',\n",
       "  'x=22\\ny=x',\n",
       "  'id(x)\\nid(y)',\n",
       "  'id(y)',\n",
       "  'id(x)',\n",
       "  'x.copy()',\n",
       "  \"import copy\\na = [1, 2, 3, 4, ['a', 'b']] #原始对象\\n \\nb = a                       #赋值，传对象的引用\\nc = copy.copy(a)            #对象拷贝，浅拷贝\\nd = copy.deepcopy(a)        #对象拷贝，深拷贝\\n \\na.append(5)                 #修改对象a\\na[4].append('c')            #修改对象a中的['a', 'b']数组对象\\n \\nprint( 'a = ', a )\\nprint( 'b = ', b )\\nprint( 'c = ', c )\\nprint( 'd = ', d )\",\n",
       "  'globals()'],\n",
       " 'Out': {2: str,\n",
       "  3: str,\n",
       "  10: 3,\n",
       "  16: 4,\n",
       "  23: 2,\n",
       "  29: 2,\n",
       "  30: 1395241152,\n",
       "  32: 1395241152,\n",
       "  33: 1395241184,\n",
       "  34: 1,\n",
       "  35: '\\n本质上传递的是实参保存数据的引用，而不是实参保存的数据！\\n注意：如果函数有返回值，但是没有定义变量接收,程序不会报错，但是无法获得返回结果\\n',\n",
       "  36: '\\n本质上传递的是实参保存数据的引用，而不是实参保存的数据！\\n注意：如果函数有返回值，但是没有定义变量接收,程序不会报错，但是无法获得返回结果\\n',\n",
       "  37: 2,\n",
       "  39: 1395241152,\n",
       "  40: 1395241152,\n",
       "  52: 99,\n",
       "  57: 1395241824,\n",
       "  58: 1395241824,\n",
       "  59: 1395241824},\n",
       " 'get_ipython': <bound method InteractiveShell.get_ipython of <ipykernel.zmqshell.ZMQInteractiveShell object at 0x000001C9F7475E48>>,\n",
       " 'exit': <IPython.core.autocall.ZMQExitAutocall at 0x1c9f7500b00>,\n",
       " 'quit': <IPython.core.autocall.ZMQExitAutocall at 0x1c9f7500b00>,\n",
       " '_': 1395241824,\n",
       " '__': 1395241824,\n",
       " '___': 1395241824,\n",
       " 'site': <module 'site' from 'C:\\\\Users\\\\Hery\\\\Anaconda3\\\\envs\\\\kt\\\\lib\\\\site.py'>,\n",
       " 'os': <module 'os' from 'C:\\\\Users\\\\Hery\\\\Anaconda3\\\\envs\\\\kt\\\\lib\\\\os.py'>,\n",
       " 'sys': <module 'sys' (built-in)>,\n",
       " '__vsc_ipynb_file__': 'c:\\\\Users\\\\Hery\\\\Desktop\\\\newpy\\\\标准库.ipynb',\n",
       " '_i': \"import copy\\na = [1, 2, 3, 4, ['a', 'b']] #原始对象\\n \\nb = a                       #赋值，传对象的引用\\nc = copy.copy(a)            #对象拷贝，浅拷贝\\nd = copy.deepcopy(a)        #对象拷贝，深拷贝\\n \\na.append(5)                 #修改对象a\\na[4].append('c')            #修改对象a中的['a', 'b']数组对象\\n \\nprint( 'a = ', a )\\nprint( 'b = ', b )\\nprint( 'c = ', c )\\nprint( 'd = ', d )\",\n",
       " '_ii': 'x.copy()',\n",
       " '_iii': 'id(x)',\n",
       " '_i1': 'var=input(\"please input sth\")',\n",
       " 'var': '36.6',\n",
       " '_i2': 'type(var)',\n",
       " '_2': str,\n",
       " '_i3': 'var=input(\"please input sth\")\\n\\'\\'\\'\\npython3.x整合raw_input()和input()，\\n去除raw_input()，只保留input()函数，\\n接受任意输入，默认所有输入为文字串处理，返回文字串类型。\\n\\'\\'\\'\\ntype(var)',\n",
       " '_3': str,\n",
       " '_i4': \"name = 'tom'\\nage = 15\\nweight = 72.3\\nstu_id = 1\\nprint('我是%s，我今年%d岁了，我的体重是%.2f公斤,我的学号是%06d' % (name, age, weight,stu_id))\\n#我是tom，我今年15岁了，我的体重是72.30公斤,我的学号是000001\",\n",
       " 'name': 'tom',\n",
       " 'age': 15,\n",
       " 'weight': 72.3,\n",
       " 'stu_id': 1,\n",
       " '_i5': 'import random\\nwhile(1):\\n    player = int(input(\"请输入您要出的拳 石头（1）／剪刀（2）／布（3）：\"))\\n    computer=random.randint(1,3)\\n    dic={1:\"石头\",2:\"剪刀\",3:\"布\"}\\n    print(\"玩家选择的是 %s（%d） - 电脑出的是 %s（%d）\" % (dic[player],player, dic[computer],computer))\\n    if player==computer:\\n        print(\"真是心有灵犀啊，再来一盘\")\\n    elif (player==1 and computer==2) or(player==2 and computer==3)or(player==3 and computer==1):\\n        print(\"欧耶，电脑弱爆了！\")\\n    else:\\n        print(\"不服气，我们决战到天明！\")',\n",
       " 'random': <module 'random' from 'C:\\\\Users\\\\Hery\\\\Anaconda3\\\\envs\\\\kt\\\\lib\\\\random.py'>,\n",
       " 'player': 1,\n",
       " 'computer': 2,\n",
       " 'dic': {1: '石头', 2: '剪刀', 3: '布'},\n",
       " '_i6': '# \\\\t 在控制台输出一个 制表符，协助在输出文本时 垂直方向 保持对齐\\nprint(\"1\\\\t2\\\\t3\")\\nprint(\"10\\\\t20\\\\t30\")\\n\\n# \\\\n 在控制台输出一个 换行符\\nprint(\"hello\\\\npython\")\\n\\n# \\\\\" 可以在控制台输出 \"\\nprint(\"hello\\\\\"hello\")',\n",
       " '_i7': 'for row in range(1,10):\\n    for col in range(1,10):\\n        if (col<=row):\\n            print(\"%d * %d = %d\"%(col,row,col*row),end=\"   \")       \\n    print(\"\")\\n    \\n#range(start,end,step) start=0 step=1\\n#前闭后开',\n",
       " 'row': 9,\n",
       " 'col': 9,\n",
       " '_i8': 'for row in range(1,10):\\n    for col in range(1,10):\\n        if (col<=row):\\n            print(\"%d * %d = %d\"%(col,row,col*row),end=\"\\\\t\")       \\n    print(\"\")\\n    \\n#range(start,end,step) start=0 step=1\\n#前闭后开',\n",
       " '_i9': 'name_list = [\"zhangsan\", \"lisi\", \"wangwu\"]',\n",
       " 'name_list': ['zhangsan', 'lisi', 'wangwu', '孙悟空', '猪二哥', '沙师弟'],\n",
       " '_i10': 'len(name_list)',\n",
       " '_10': 3,\n",
       " '_i11': '# 查找\\nprint(name_list.index(\"wangwu\"))#序号\\nprint(name_list[2])#序号',\n",
       " '_i12': '# 添加/删除最后一个元素\\nname_list.append(\"王小二\")#列表末尾添加元素\\nprint(name_list)\\nname_list.pop()#列表末尾添加元素\\nprint(name_list)',\n",
       " '_i13': '# 拼接列表\\ntemp_list = [\"孙悟空\", \"猪二哥\", \"沙师弟\"]\\nname_list.extend(temp_list)\\nprint(name_list)',\n",
       " 'temp_list': ['孙悟空', '猪二哥', '沙师弟'],\n",
       " '_i14': 'count = name_list.count(\"zhangsan\")#计数\\nprint(\"张三出现了 %d 次\" % count)',\n",
       " 'count': 2,\n",
       " '_i15': 'info_tuple = (\"zhangsan\", 18, 1.75, \"zhangsan\")',\n",
       " 'info_tuple': ('zhangsan', 18, 1.75, 'zhangsan'),\n",
       " '_i16': 'len(info_tuple)',\n",
       " '_16': 4,\n",
       " '_i17': '# 取值/取索引\\nprint(info_tuple[0])\\nprint(info_tuple.index(\"zhangsan\"))',\n",
       " '_i18': '# 取值/取索引\\nprint(info_tuple[2])\\nprint(info_tuple.index(\"zhangsan\"))',\n",
       " '_i19': '# 取值/取索引\\nprint(info_tuple[0])\\nprint(info_tuple.index(\"zhangsan\"))',\n",
       " '_i20': '# 计数\\ncount = name_list.count(\"zhangsan\")#计数\\nprint(\"张三出现了 %d 次\" % count)',\n",
       " '_i21': '# 计数\\ncount = info_tuple.count(\"zhangsan\")#计数\\nprint(\"张三出现了 %d 次\" % count)',\n",
       " '_i22': 'xiaoming_dict = {\"name\": \"小明\",\\n                 \"age\": 18}',\n",
       " 'xiaoming_dict': {'name': '小明', 'age': 20, 'height': 1.75},\n",
       " '_i23': '# 长度\\nlen(xiaoming_dict)',\n",
       " '_23': 2,\n",
       " '_i24': '# \\nkeys=list(xiaoming_dict.keys())\\nvalues=list(xiaoming_dict.values())\\nitems=list(xiaoming_dict.items())\\nprint(keys)\\nprint(values)\\nprint(items)',\n",
       " 'keys': ['name', 'age'],\n",
       " 'values': ['小明', 18],\n",
       " 'items': [('name', '小明'), ('age', 18)],\n",
       " '_i25': '# 拼接\\ntemp_dict = {\"height\": 1.75,\\n             \"age\": 20}\\n             \\n# 注意：如果被合并的字典中包含已经存在的键值对，会覆盖原有的键值对\\nxiaoming_dict.update(temp_dict)\\nprint(xiaoming_dict)',\n",
       " 'temp_dict': {'height': 1.75, 'age': 20},\n",
       " '_i26': '# 如果入参是变量，那么多值参数传递遵循拆包语法\\ndef test(*args, **kwargs):\\n    \\n    print(args)\\n    print(kwargs)\\n \\n \\ntup = (1, 2, 3)\\ndict = {\"name\":\"horizon\"}\\n \\ntest(*tup, **dict)  # 拆包语法',\n",
       " 'test': <function __main__.test(num)>,\n",
       " 'tup': (1, 2, 3),\n",
       " 'dict': {'name': 'horizon'},\n",
       " '_i27': 'def demo(num, *nums, **person):\\n\\n    print(num)\\n    print(nums)\\n    print(person)\\n\\n\\n# demo(1)\\ndemo(1, 2, 3, 4, 5, name=\"小明\", age=18)',\n",
       " 'demo': <function __main__.demo(num, *nums, **person)>,\n",
       " '_i28': 'def test(num):\\n    print(\"在函数内部 %d 对应的内存地址是 %d\" % (num, id(num)))\\n    return num+1',\n",
       " '_i29': 'test(1)',\n",
       " '_29': 2,\n",
       " '_i30': 'test(1)\\nid(1)',\n",
       " '_30': 1395241152,\n",
       " '_i31': 'a=1\\nb=test(1)',\n",
       " 'a': [1, 2, 3, 4, ['a', 'b', 'c'], 5],\n",
       " 'b': [1, 2, 3, 4, ['a', 'b', 'c'], 5],\n",
       " '_i32': 'a=1\\nb=test(1)\\nid(a)',\n",
       " '_32': 1395241152,\n",
       " '_i33': 'a=1\\nb=test(1)\\nid(a)\\nid(b)',\n",
       " '_33': 1395241184,\n",
       " '_i34': 'a',\n",
       " '_34': 1,\n",
       " '_i35': \"x=1\\ntest(x)\\n'''\\n本质上传递的是实参保存数据的引用，而不是实参保存的数据！\\n注意：如果函数有返回值，但是没有定义变量接收,程序不会报错，但是无法获得返回结果\\n'''\",\n",
       " 'x': 22,\n",
       " '_35': '\\n本质上传递的是实参保存数据的引用，而不是实参保存的数据！\\n注意：如果函数有返回值，但是没有定义变量接收,程序不会报错，但是无法获得返回结果\\n',\n",
       " '_i36': \"x=1\\ntest(x)\\n\\n'''\\n本质上传递的是实参保存数据的引用，而不是实参保存的数据！\\n注意：如果函数有返回值，但是没有定义变量接收,程序不会报错，但是无法获得返回结果\\n'''\",\n",
       " '_36': '\\n本质上传递的是实参保存数据的引用，而不是实参保存的数据！\\n注意：如果函数有返回值，但是没有定义变量接收,程序不会报错，但是无法获得返回结果\\n',\n",
       " '_i37': 'x=1\\ntest(x)\\n\\n\\n# 本质上传递的是实参保存数据的引用，而不是实参保存的数据！\\n# 注意：如果函数有返回值，但是没有定义变量接收,程序不会报错，但是无法获得返回结果',\n",
       " '_37': 2,\n",
       " '_i38': 'x=1\\ny=test(x)\\n\\n\\n# 本质上传递的是实参保存数据的引用，而不是实参保存的数据！\\n# 注意：如果函数有返回值，但是没有定义变量接收,程序不会报错，但是无法获得返回结果',\n",
       " 'y': 22,\n",
       " '_i39': 'x=1\\ny=test(x)\\nid(x)\\n\\n\\n# 本质上传递的是实参保存数据的引用，而不是实参保存的数据！\\n# 注意：如果函数有返回值，但是没有定义变量接收,程序不会报错，但是无法获得返回结果',\n",
       " '_39': 1395241152,\n",
       " '_i40': 'x=1\\nid(x)\\nid(1)\\n\\n\\n\\n# 本质上传递的是实参保存数据的引用，而不是实参保存的数据！\\n# 注意：如果函数有返回值，但是没有定义变量接收,程序不会报错，但是无法获得返回结果',\n",
       " '_40': 1395241152,\n",
       " '_i41': 'x=1\\nprint(id(x))\\nprint(id(1))\\n\\n\\n\\n# 本质上传递的是实参保存数据的引用，而不是实参保存的数据！\\n# 注意：如果函数有返回值，但是没有定义变量接收,程序不会报错，但是无法获得返回结果',\n",
       " '_i42': 'x=1\\nprint(id(x))\\nprint(id(1))\\n\\ny=test(x)\\n\\nprint(id(x))\\nprint(id(1))\\n\\n\\n# 本质上传递的是实参保存数据的引用，而不是实参保存的数据！\\n# 注意：如果函数有返回值，但是没有定义变量接收,程序不会报错，但是无法获得返回结果',\n",
       " '_i43': 'x=1\\nprint(id(x))\\nprint(id(1))\\n\\ny=test(x)\\n\\nprint(id(x))\\nprint(id(1))\\n\\nprint(id(y))\\nprint(id(2))\\n\\n\\n# 本质上传递的是实参保存数据的引用，而不是实参保存的数据！\\n# 注意：如果函数有返回值，但是没有定义变量接收,程序不会报错，但是无法获得返回结果',\n",
       " '_i44': 'def test(num):\\n    print(\"在函数内部 %d 对应的内存地址是 %d\" % (num, id(num)))\\n    print(\"--------------------------------------------------------------------------\")\\n\\n    result = \"Hello\"\\n    print(\"函数返回数据的内存地址是 %d\" % id(result))\\n    return result',\n",
       " '_i45': '# 1. 定义一个数字的变量\\nx = 10\\nprint(\"x=%d 变量保存数据的内存地址是 %d\" %  ( x,id(x) ) )\\n\\n\\n# 本质上传递的是实参保存数据的引用，而不是实参保存的数据！\\n# 注意：如果函数有返回值，但是没有定义变量接收,程序不会报错，但是无法获得返回结果',\n",
       " '_i46': '# 1. 定义一个数字的变量\\nx = 10\\nprint(\"x=%d 变量保存数据的内存地址是 %d\" %  ( x,id(x) ) )\\n\\n# 2. 调用 test 函数，本质上传递的是实参保存数据的引用，而不是实参保存的数据！\\n# 注意：如果函数有返回值，但是没有定义变量接收,程序不会报错，但是无法获得返回结果.\\ny = test(x)\\nprint(\"%s 的内存地址是 %d\" % (y, id(y)))',\n",
       " '_i47': 'demo2()\\ndemo1()',\n",
       " '_i48': 'num = 10\\n\\ndef demo2():\\n    num = 99\\n    print(\"demo2 ==> %d\" % num)\\n\\n\\ndef demo1():\\n\\n    # 希望修改全局变量的值 - 使用 global 声明一下变量即可\\n    # global 关键字会告诉解释器后面的变量是一个全局变量\\n    # 再使用赋值语句时，则不会创建局部变量\\n    global num\\n\\n    num = 99\\n\\n    print(\"demo1 ==> %d\" % num)',\n",
       " 'num': 99,\n",
       " 'demo2': <function __main__.demo2()>,\n",
       " 'demo1': <function __main__.demo1()>,\n",
       " '_i49': 'demo2()\\ndemo1()',\n",
       " '_i50': 'num = 10\\n\\ndef demo1():\\n\\n    # 希望修改全局变量的值  -  使用 global 声明一下变量即可\\n    # global 关键字会告诉解释器后面的变量是一个全局变量\\n    # 再使用赋值语句时，则不会创建局部变量\\n    global num\\n\\n    num = 99\\n\\n    print(\"demo1 ==> %d\" % num)',\n",
       " '_i51': '\\ndemo1()',\n",
       " '_i52': '\\ndemo1()\\nnum',\n",
       " '_52': 99,\n",
       " '_i53': 'demo1()\\nprint(num)',\n",
       " '_i54': 'num = 10\\n\\ndef demo1():\\n    # 希望修改全局变量的值  -  使用 global 声明一下变量即可\\n    # global 关键字会告诉解释器后面的变量是一个全局变量\\n    # 再使用赋值语句时，则不会创建局部变量\\n    global num\\n    num = 99\\n    print(\"demo1 ==> %d\" % num)',\n",
       " '_i55': 'demo1()\\nprint(num)',\n",
       " '_i56': 'x=22\\ny=x',\n",
       " '_i57': 'id(x)\\nid(y)',\n",
       " '_57': 1395241824,\n",
       " '_i58': 'id(y)',\n",
       " '_58': 1395241824,\n",
       " '_i59': 'id(x)',\n",
       " '_59': 1395241824,\n",
       " '_i60': 'x.copy()',\n",
       " '_i61': \"import copy\\na = [1, 2, 3, 4, ['a', 'b']] #原始对象\\n \\nb = a                       #赋值，传对象的引用\\nc = copy.copy(a)            #对象拷贝，浅拷贝\\nd = copy.deepcopy(a)        #对象拷贝，深拷贝\\n \\na.append(5)                 #修改对象a\\na[4].append('c')            #修改对象a中的['a', 'b']数组对象\\n \\nprint( 'a = ', a )\\nprint( 'b = ', b )\\nprint( 'c = ', c )\\nprint( 'd = ', d )\",\n",
       " 'copy': <module 'copy' from 'C:\\\\Users\\\\Hery\\\\Anaconda3\\\\envs\\\\kt\\\\lib\\\\copy.py'>,\n",
       " 'c': [1, 2, 3, 4, ['a', 'b', 'c']],\n",
       " 'd': [1, 2, 3, 4, ['a', 'b']],\n",
       " '_i62': 'globals()'}"
      ]
     },
     "execution_count": 62,
     "metadata": {},
     "output_type": "execute_result"
    }
   ],
   "source": [
    "globals()"
   ]
  },
  {
   "cell_type": "code",
   "execution_count": 64,
   "metadata": {},
   "outputs": [
    {
     "data": {
      "text/plain": [
       "{'__name__': '__main__',\n",
       " '__doc__': '\\npython3.x整合raw_input()和input()，\\n去除raw_input()，只保留input()函数，\\n接受任意输入，默认所有输入为文字串处理，返回文字串类型。\\n',\n",
       " '__package__': None,\n",
       " '__loader__': None,\n",
       " '__spec__': None,\n",
       " '__builtin__': <module 'builtins' (built-in)>,\n",
       " '__builtins__': <module 'builtins' (built-in)>,\n",
       " '_ih': ['',\n",
       "  'var=input(\"please input sth\")',\n",
       "  'type(var)',\n",
       "  'var=input(\"please input sth\")\\n\\'\\'\\'\\npython3.x整合raw_input()和input()，\\n去除raw_input()，只保留input()函数，\\n接受任意输入，默认所有输入为文字串处理，返回文字串类型。\\n\\'\\'\\'\\ntype(var)',\n",
       "  \"name = 'tom'\\nage = 15\\nweight = 72.3\\nstu_id = 1\\nprint('我是%s，我今年%d岁了，我的体重是%.2f公斤,我的学号是%06d' % (name, age, weight,stu_id))\\n#我是tom，我今年15岁了，我的体重是72.30公斤,我的学号是000001\",\n",
       "  'import random\\nwhile(1):\\n    player = int(input(\"请输入您要出的拳 石头（1）／剪刀（2）／布（3）：\"))\\n    computer=random.randint(1,3)\\n    dic={1:\"石头\",2:\"剪刀\",3:\"布\"}\\n    print(\"玩家选择的是 %s（%d） - 电脑出的是 %s（%d）\" % (dic[player],player, dic[computer],computer))\\n    if player==computer:\\n        print(\"真是心有灵犀啊，再来一盘\")\\n    elif (player==1 and computer==2) or(player==2 and computer==3)or(player==3 and computer==1):\\n        print(\"欧耶，电脑弱爆了！\")\\n    else:\\n        print(\"不服气，我们决战到天明！\")',\n",
       "  '# \\\\t 在控制台输出一个 制表符，协助在输出文本时 垂直方向 保持对齐\\nprint(\"1\\\\t2\\\\t3\")\\nprint(\"10\\\\t20\\\\t30\")\\n\\n# \\\\n 在控制台输出一个 换行符\\nprint(\"hello\\\\npython\")\\n\\n# \\\\\" 可以在控制台输出 \"\\nprint(\"hello\\\\\"hello\")',\n",
       "  'for row in range(1,10):\\n    for col in range(1,10):\\n        if (col<=row):\\n            print(\"%d * %d = %d\"%(col,row,col*row),end=\"   \")       \\n    print(\"\")\\n    \\n#range(start,end,step) start=0 step=1\\n#前闭后开',\n",
       "  'for row in range(1,10):\\n    for col in range(1,10):\\n        if (col<=row):\\n            print(\"%d * %d = %d\"%(col,row,col*row),end=\"\\\\t\")       \\n    print(\"\")\\n    \\n#range(start,end,step) start=0 step=1\\n#前闭后开',\n",
       "  'name_list = [\"zhangsan\", \"lisi\", \"wangwu\"]',\n",
       "  'len(name_list)',\n",
       "  '# 查找\\nprint(name_list.index(\"wangwu\"))#序号\\nprint(name_list[2])#序号',\n",
       "  '# 添加/删除最后一个元素\\nname_list.append(\"王小二\")#列表末尾添加元素\\nprint(name_list)\\nname_list.pop()#列表末尾添加元素\\nprint(name_list)',\n",
       "  '# 拼接列表\\ntemp_list = [\"孙悟空\", \"猪二哥\", \"沙师弟\"]\\nname_list.extend(temp_list)\\nprint(name_list)',\n",
       "  'count = name_list.count(\"zhangsan\")#计数\\nprint(\"张三出现了 %d 次\" % count)',\n",
       "  'info_tuple = (\"zhangsan\", 18, 1.75, \"zhangsan\")',\n",
       "  'len(info_tuple)',\n",
       "  '# 取值/取索引\\nprint(info_tuple[0])\\nprint(info_tuple.index(\"zhangsan\"))',\n",
       "  '# 取值/取索引\\nprint(info_tuple[2])\\nprint(info_tuple.index(\"zhangsan\"))',\n",
       "  '# 取值/取索引\\nprint(info_tuple[0])\\nprint(info_tuple.index(\"zhangsan\"))',\n",
       "  '# 计数\\ncount = name_list.count(\"zhangsan\")#计数\\nprint(\"张三出现了 %d 次\" % count)',\n",
       "  '# 计数\\ncount = info_tuple.count(\"zhangsan\")#计数\\nprint(\"张三出现了 %d 次\" % count)',\n",
       "  'xiaoming_dict = {\"name\": \"小明\",\\n                 \"age\": 18}',\n",
       "  '# 长度\\nlen(xiaoming_dict)',\n",
       "  '# \\nkeys=list(xiaoming_dict.keys())\\nvalues=list(xiaoming_dict.values())\\nitems=list(xiaoming_dict.items())\\nprint(keys)\\nprint(values)\\nprint(items)',\n",
       "  '# 拼接\\ntemp_dict = {\"height\": 1.75,\\n             \"age\": 20}\\n             \\n# 注意：如果被合并的字典中包含已经存在的键值对，会覆盖原有的键值对\\nxiaoming_dict.update(temp_dict)\\nprint(xiaoming_dict)',\n",
       "  '# 如果入参是变量，那么多值参数传递遵循拆包语法\\ndef test(*args, **kwargs):\\n    \\n    print(args)\\n    print(kwargs)\\n \\n \\ntup = (1, 2, 3)\\ndict = {\"name\":\"horizon\"}\\n \\ntest(*tup, **dict)  # 拆包语法',\n",
       "  'def demo(num, *nums, **person):\\n\\n    print(num)\\n    print(nums)\\n    print(person)\\n\\n\\n# demo(1)\\ndemo(1, 2, 3, 4, 5, name=\"小明\", age=18)',\n",
       "  'def test(num):\\n    print(\"在函数内部 %d 对应的内存地址是 %d\" % (num, id(num)))\\n    return num+1',\n",
       "  'test(1)',\n",
       "  'test(1)\\nid(1)',\n",
       "  'a=1\\nb=test(1)',\n",
       "  'a=1\\nb=test(1)\\nid(a)',\n",
       "  'a=1\\nb=test(1)\\nid(a)\\nid(b)',\n",
       "  'a',\n",
       "  \"x=1\\ntest(x)\\n'''\\n本质上传递的是实参保存数据的引用，而不是实参保存的数据！\\n注意：如果函数有返回值，但是没有定义变量接收,程序不会报错，但是无法获得返回结果\\n'''\",\n",
       "  \"x=1\\ntest(x)\\n\\n'''\\n本质上传递的是实参保存数据的引用，而不是实参保存的数据！\\n注意：如果函数有返回值，但是没有定义变量接收,程序不会报错，但是无法获得返回结果\\n'''\",\n",
       "  'x=1\\ntest(x)\\n\\n\\n# 本质上传递的是实参保存数据的引用，而不是实参保存的数据！\\n# 注意：如果函数有返回值，但是没有定义变量接收,程序不会报错，但是无法获得返回结果',\n",
       "  'x=1\\ny=test(x)\\n\\n\\n# 本质上传递的是实参保存数据的引用，而不是实参保存的数据！\\n# 注意：如果函数有返回值，但是没有定义变量接收,程序不会报错，但是无法获得返回结果',\n",
       "  'x=1\\ny=test(x)\\nid(x)\\n\\n\\n# 本质上传递的是实参保存数据的引用，而不是实参保存的数据！\\n# 注意：如果函数有返回值，但是没有定义变量接收,程序不会报错，但是无法获得返回结果',\n",
       "  'x=1\\nid(x)\\nid(1)\\n\\n\\n\\n# 本质上传递的是实参保存数据的引用，而不是实参保存的数据！\\n# 注意：如果函数有返回值，但是没有定义变量接收,程序不会报错，但是无法获得返回结果',\n",
       "  'x=1\\nprint(id(x))\\nprint(id(1))\\n\\n\\n\\n# 本质上传递的是实参保存数据的引用，而不是实参保存的数据！\\n# 注意：如果函数有返回值，但是没有定义变量接收,程序不会报错，但是无法获得返回结果',\n",
       "  'x=1\\nprint(id(x))\\nprint(id(1))\\n\\ny=test(x)\\n\\nprint(id(x))\\nprint(id(1))\\n\\n\\n# 本质上传递的是实参保存数据的引用，而不是实参保存的数据！\\n# 注意：如果函数有返回值，但是没有定义变量接收,程序不会报错，但是无法获得返回结果',\n",
       "  'x=1\\nprint(id(x))\\nprint(id(1))\\n\\ny=test(x)\\n\\nprint(id(x))\\nprint(id(1))\\n\\nprint(id(y))\\nprint(id(2))\\n\\n\\n# 本质上传递的是实参保存数据的引用，而不是实参保存的数据！\\n# 注意：如果函数有返回值，但是没有定义变量接收,程序不会报错，但是无法获得返回结果',\n",
       "  'def test(num):\\n    print(\"在函数内部 %d 对应的内存地址是 %d\" % (num, id(num)))\\n    print(\"--------------------------------------------------------------------------\")\\n\\n    result = \"Hello\"\\n    print(\"函数返回数据的内存地址是 %d\" % id(result))\\n    return result',\n",
       "  '# 1. 定义一个数字的变量\\nx = 10\\nprint(\"x=%d 变量保存数据的内存地址是 %d\" %  ( x,id(x) ) )\\n\\n\\n# 本质上传递的是实参保存数据的引用，而不是实参保存的数据！\\n# 注意：如果函数有返回值，但是没有定义变量接收,程序不会报错，但是无法获得返回结果',\n",
       "  '# 1. 定义一个数字的变量\\nx = 10\\nprint(\"x=%d 变量保存数据的内存地址是 %d\" %  ( x,id(x) ) )\\n\\n# 2. 调用 test 函数，本质上传递的是实参保存数据的引用，而不是实参保存的数据！\\n# 注意：如果函数有返回值，但是没有定义变量接收,程序不会报错，但是无法获得返回结果.\\ny = test(x)\\nprint(\"%s 的内存地址是 %d\" % (y, id(y)))',\n",
       "  'demo2()\\ndemo1()',\n",
       "  'num = 10\\n\\ndef demo2():\\n    num = 99\\n    print(\"demo2 ==> %d\" % num)\\n\\n\\ndef demo1():\\n\\n    # 希望修改全局变量的值 - 使用 global 声明一下变量即可\\n    # global 关键字会告诉解释器后面的变量是一个全局变量\\n    # 再使用赋值语句时，则不会创建局部变量\\n    global num\\n\\n    num = 99\\n\\n    print(\"demo1 ==> %d\" % num)',\n",
       "  'demo2()\\ndemo1()',\n",
       "  'num = 10\\n\\ndef demo1():\\n\\n    # 希望修改全局变量的值  -  使用 global 声明一下变量即可\\n    # global 关键字会告诉解释器后面的变量是一个全局变量\\n    # 再使用赋值语句时，则不会创建局部变量\\n    global num\\n\\n    num = 99\\n\\n    print(\"demo1 ==> %d\" % num)',\n",
       "  'demo1()',\n",
       "  'demo1()\\nnum',\n",
       "  'demo1()\\nprint(num)',\n",
       "  'num = 10\\n\\ndef demo1():\\n    # 希望修改全局变量的值  -  使用 global 声明一下变量即可\\n    # global 关键字会告诉解释器后面的变量是一个全局变量\\n    # 再使用赋值语句时，则不会创建局部变量\\n    global num\\n    num = 99\\n    print(\"demo1 ==> %d\" % num)',\n",
       "  'demo1()\\nprint(num)',\n",
       "  'x=22\\ny=x',\n",
       "  'id(x)\\nid(y)',\n",
       "  'id(y)',\n",
       "  'id(x)',\n",
       "  'x.copy()',\n",
       "  \"import copy\\na = [1, 2, 3, 4, ['a', 'b']] #原始对象\\n \\nb = a                       #赋值，传对象的引用\\nc = copy.copy(a)            #对象拷贝，浅拷贝\\nd = copy.deepcopy(a)        #对象拷贝，深拷贝\\n \\na.append(5)                 #修改对象a\\na[4].append('c')            #修改对象a中的['a', 'b']数组对象\\n \\nprint( 'a = ', a )\\nprint( 'b = ', b )\\nprint( 'c = ', c )\\nprint( 'd = ', d )\",\n",
       "  'globals()',\n",
       "  'class A():\\n    def __init__(self, name):\\n        self.name = name',\n",
       "  'locals()'],\n",
       " '_oh': {2: str,\n",
       "  3: str,\n",
       "  10: 3,\n",
       "  16: 4,\n",
       "  23: 2,\n",
       "  29: 2,\n",
       "  30: 1395241152,\n",
       "  32: 1395241152,\n",
       "  33: 1395241184,\n",
       "  34: 1,\n",
       "  35: '\\n本质上传递的是实参保存数据的引用，而不是实参保存的数据！\\n注意：如果函数有返回值，但是没有定义变量接收,程序不会报错，但是无法获得返回结果\\n',\n",
       "  36: '\\n本质上传递的是实参保存数据的引用，而不是实参保存的数据！\\n注意：如果函数有返回值，但是没有定义变量接收,程序不会报错，但是无法获得返回结果\\n',\n",
       "  37: 2,\n",
       "  39: 1395241152,\n",
       "  40: 1395241152,\n",
       "  52: 99,\n",
       "  57: 1395241824,\n",
       "  58: 1395241824,\n",
       "  59: 1395241824,\n",
       "  62: {...}},\n",
       " '_dh': ['c:\\\\Users\\\\Hery\\\\Desktop\\\\newpy'],\n",
       " 'In': ['',\n",
       "  'var=input(\"please input sth\")',\n",
       "  'type(var)',\n",
       "  'var=input(\"please input sth\")\\n\\'\\'\\'\\npython3.x整合raw_input()和input()，\\n去除raw_input()，只保留input()函数，\\n接受任意输入，默认所有输入为文字串处理，返回文字串类型。\\n\\'\\'\\'\\ntype(var)',\n",
       "  \"name = 'tom'\\nage = 15\\nweight = 72.3\\nstu_id = 1\\nprint('我是%s，我今年%d岁了，我的体重是%.2f公斤,我的学号是%06d' % (name, age, weight,stu_id))\\n#我是tom，我今年15岁了，我的体重是72.30公斤,我的学号是000001\",\n",
       "  'import random\\nwhile(1):\\n    player = int(input(\"请输入您要出的拳 石头（1）／剪刀（2）／布（3）：\"))\\n    computer=random.randint(1,3)\\n    dic={1:\"石头\",2:\"剪刀\",3:\"布\"}\\n    print(\"玩家选择的是 %s（%d） - 电脑出的是 %s（%d）\" % (dic[player],player, dic[computer],computer))\\n    if player==computer:\\n        print(\"真是心有灵犀啊，再来一盘\")\\n    elif (player==1 and computer==2) or(player==2 and computer==3)or(player==3 and computer==1):\\n        print(\"欧耶，电脑弱爆了！\")\\n    else:\\n        print(\"不服气，我们决战到天明！\")',\n",
       "  '# \\\\t 在控制台输出一个 制表符，协助在输出文本时 垂直方向 保持对齐\\nprint(\"1\\\\t2\\\\t3\")\\nprint(\"10\\\\t20\\\\t30\")\\n\\n# \\\\n 在控制台输出一个 换行符\\nprint(\"hello\\\\npython\")\\n\\n# \\\\\" 可以在控制台输出 \"\\nprint(\"hello\\\\\"hello\")',\n",
       "  'for row in range(1,10):\\n    for col in range(1,10):\\n        if (col<=row):\\n            print(\"%d * %d = %d\"%(col,row,col*row),end=\"   \")       \\n    print(\"\")\\n    \\n#range(start,end,step) start=0 step=1\\n#前闭后开',\n",
       "  'for row in range(1,10):\\n    for col in range(1,10):\\n        if (col<=row):\\n            print(\"%d * %d = %d\"%(col,row,col*row),end=\"\\\\t\")       \\n    print(\"\")\\n    \\n#range(start,end,step) start=0 step=1\\n#前闭后开',\n",
       "  'name_list = [\"zhangsan\", \"lisi\", \"wangwu\"]',\n",
       "  'len(name_list)',\n",
       "  '# 查找\\nprint(name_list.index(\"wangwu\"))#序号\\nprint(name_list[2])#序号',\n",
       "  '# 添加/删除最后一个元素\\nname_list.append(\"王小二\")#列表末尾添加元素\\nprint(name_list)\\nname_list.pop()#列表末尾添加元素\\nprint(name_list)',\n",
       "  '# 拼接列表\\ntemp_list = [\"孙悟空\", \"猪二哥\", \"沙师弟\"]\\nname_list.extend(temp_list)\\nprint(name_list)',\n",
       "  'count = name_list.count(\"zhangsan\")#计数\\nprint(\"张三出现了 %d 次\" % count)',\n",
       "  'info_tuple = (\"zhangsan\", 18, 1.75, \"zhangsan\")',\n",
       "  'len(info_tuple)',\n",
       "  '# 取值/取索引\\nprint(info_tuple[0])\\nprint(info_tuple.index(\"zhangsan\"))',\n",
       "  '# 取值/取索引\\nprint(info_tuple[2])\\nprint(info_tuple.index(\"zhangsan\"))',\n",
       "  '# 取值/取索引\\nprint(info_tuple[0])\\nprint(info_tuple.index(\"zhangsan\"))',\n",
       "  '# 计数\\ncount = name_list.count(\"zhangsan\")#计数\\nprint(\"张三出现了 %d 次\" % count)',\n",
       "  '# 计数\\ncount = info_tuple.count(\"zhangsan\")#计数\\nprint(\"张三出现了 %d 次\" % count)',\n",
       "  'xiaoming_dict = {\"name\": \"小明\",\\n                 \"age\": 18}',\n",
       "  '# 长度\\nlen(xiaoming_dict)',\n",
       "  '# \\nkeys=list(xiaoming_dict.keys())\\nvalues=list(xiaoming_dict.values())\\nitems=list(xiaoming_dict.items())\\nprint(keys)\\nprint(values)\\nprint(items)',\n",
       "  '# 拼接\\ntemp_dict = {\"height\": 1.75,\\n             \"age\": 20}\\n             \\n# 注意：如果被合并的字典中包含已经存在的键值对，会覆盖原有的键值对\\nxiaoming_dict.update(temp_dict)\\nprint(xiaoming_dict)',\n",
       "  '# 如果入参是变量，那么多值参数传递遵循拆包语法\\ndef test(*args, **kwargs):\\n    \\n    print(args)\\n    print(kwargs)\\n \\n \\ntup = (1, 2, 3)\\ndict = {\"name\":\"horizon\"}\\n \\ntest(*tup, **dict)  # 拆包语法',\n",
       "  'def demo(num, *nums, **person):\\n\\n    print(num)\\n    print(nums)\\n    print(person)\\n\\n\\n# demo(1)\\ndemo(1, 2, 3, 4, 5, name=\"小明\", age=18)',\n",
       "  'def test(num):\\n    print(\"在函数内部 %d 对应的内存地址是 %d\" % (num, id(num)))\\n    return num+1',\n",
       "  'test(1)',\n",
       "  'test(1)\\nid(1)',\n",
       "  'a=1\\nb=test(1)',\n",
       "  'a=1\\nb=test(1)\\nid(a)',\n",
       "  'a=1\\nb=test(1)\\nid(a)\\nid(b)',\n",
       "  'a',\n",
       "  \"x=1\\ntest(x)\\n'''\\n本质上传递的是实参保存数据的引用，而不是实参保存的数据！\\n注意：如果函数有返回值，但是没有定义变量接收,程序不会报错，但是无法获得返回结果\\n'''\",\n",
       "  \"x=1\\ntest(x)\\n\\n'''\\n本质上传递的是实参保存数据的引用，而不是实参保存的数据！\\n注意：如果函数有返回值，但是没有定义变量接收,程序不会报错，但是无法获得返回结果\\n'''\",\n",
       "  'x=1\\ntest(x)\\n\\n\\n# 本质上传递的是实参保存数据的引用，而不是实参保存的数据！\\n# 注意：如果函数有返回值，但是没有定义变量接收,程序不会报错，但是无法获得返回结果',\n",
       "  'x=1\\ny=test(x)\\n\\n\\n# 本质上传递的是实参保存数据的引用，而不是实参保存的数据！\\n# 注意：如果函数有返回值，但是没有定义变量接收,程序不会报错，但是无法获得返回结果',\n",
       "  'x=1\\ny=test(x)\\nid(x)\\n\\n\\n# 本质上传递的是实参保存数据的引用，而不是实参保存的数据！\\n# 注意：如果函数有返回值，但是没有定义变量接收,程序不会报错，但是无法获得返回结果',\n",
       "  'x=1\\nid(x)\\nid(1)\\n\\n\\n\\n# 本质上传递的是实参保存数据的引用，而不是实参保存的数据！\\n# 注意：如果函数有返回值，但是没有定义变量接收,程序不会报错，但是无法获得返回结果',\n",
       "  'x=1\\nprint(id(x))\\nprint(id(1))\\n\\n\\n\\n# 本质上传递的是实参保存数据的引用，而不是实参保存的数据！\\n# 注意：如果函数有返回值，但是没有定义变量接收,程序不会报错，但是无法获得返回结果',\n",
       "  'x=1\\nprint(id(x))\\nprint(id(1))\\n\\ny=test(x)\\n\\nprint(id(x))\\nprint(id(1))\\n\\n\\n# 本质上传递的是实参保存数据的引用，而不是实参保存的数据！\\n# 注意：如果函数有返回值，但是没有定义变量接收,程序不会报错，但是无法获得返回结果',\n",
       "  'x=1\\nprint(id(x))\\nprint(id(1))\\n\\ny=test(x)\\n\\nprint(id(x))\\nprint(id(1))\\n\\nprint(id(y))\\nprint(id(2))\\n\\n\\n# 本质上传递的是实参保存数据的引用，而不是实参保存的数据！\\n# 注意：如果函数有返回值，但是没有定义变量接收,程序不会报错，但是无法获得返回结果',\n",
       "  'def test(num):\\n    print(\"在函数内部 %d 对应的内存地址是 %d\" % (num, id(num)))\\n    print(\"--------------------------------------------------------------------------\")\\n\\n    result = \"Hello\"\\n    print(\"函数返回数据的内存地址是 %d\" % id(result))\\n    return result',\n",
       "  '# 1. 定义一个数字的变量\\nx = 10\\nprint(\"x=%d 变量保存数据的内存地址是 %d\" %  ( x,id(x) ) )\\n\\n\\n# 本质上传递的是实参保存数据的引用，而不是实参保存的数据！\\n# 注意：如果函数有返回值，但是没有定义变量接收,程序不会报错，但是无法获得返回结果',\n",
       "  '# 1. 定义一个数字的变量\\nx = 10\\nprint(\"x=%d 变量保存数据的内存地址是 %d\" %  ( x,id(x) ) )\\n\\n# 2. 调用 test 函数，本质上传递的是实参保存数据的引用，而不是实参保存的数据！\\n# 注意：如果函数有返回值，但是没有定义变量接收,程序不会报错，但是无法获得返回结果.\\ny = test(x)\\nprint(\"%s 的内存地址是 %d\" % (y, id(y)))',\n",
       "  'demo2()\\ndemo1()',\n",
       "  'num = 10\\n\\ndef demo2():\\n    num = 99\\n    print(\"demo2 ==> %d\" % num)\\n\\n\\ndef demo1():\\n\\n    # 希望修改全局变量的值 - 使用 global 声明一下变量即可\\n    # global 关键字会告诉解释器后面的变量是一个全局变量\\n    # 再使用赋值语句时，则不会创建局部变量\\n    global num\\n\\n    num = 99\\n\\n    print(\"demo1 ==> %d\" % num)',\n",
       "  'demo2()\\ndemo1()',\n",
       "  'num = 10\\n\\ndef demo1():\\n\\n    # 希望修改全局变量的值  -  使用 global 声明一下变量即可\\n    # global 关键字会告诉解释器后面的变量是一个全局变量\\n    # 再使用赋值语句时，则不会创建局部变量\\n    global num\\n\\n    num = 99\\n\\n    print(\"demo1 ==> %d\" % num)',\n",
       "  'demo1()',\n",
       "  'demo1()\\nnum',\n",
       "  'demo1()\\nprint(num)',\n",
       "  'num = 10\\n\\ndef demo1():\\n    # 希望修改全局变量的值  -  使用 global 声明一下变量即可\\n    # global 关键字会告诉解释器后面的变量是一个全局变量\\n    # 再使用赋值语句时，则不会创建局部变量\\n    global num\\n    num = 99\\n    print(\"demo1 ==> %d\" % num)',\n",
       "  'demo1()\\nprint(num)',\n",
       "  'x=22\\ny=x',\n",
       "  'id(x)\\nid(y)',\n",
       "  'id(y)',\n",
       "  'id(x)',\n",
       "  'x.copy()',\n",
       "  \"import copy\\na = [1, 2, 3, 4, ['a', 'b']] #原始对象\\n \\nb = a                       #赋值，传对象的引用\\nc = copy.copy(a)            #对象拷贝，浅拷贝\\nd = copy.deepcopy(a)        #对象拷贝，深拷贝\\n \\na.append(5)                 #修改对象a\\na[4].append('c')            #修改对象a中的['a', 'b']数组对象\\n \\nprint( 'a = ', a )\\nprint( 'b = ', b )\\nprint( 'c = ', c )\\nprint( 'd = ', d )\",\n",
       "  'globals()',\n",
       "  'class A():\\n    def __init__(self, name):\\n        self.name = name',\n",
       "  'locals()'],\n",
       " 'Out': {2: str,\n",
       "  3: str,\n",
       "  10: 3,\n",
       "  16: 4,\n",
       "  23: 2,\n",
       "  29: 2,\n",
       "  30: 1395241152,\n",
       "  32: 1395241152,\n",
       "  33: 1395241184,\n",
       "  34: 1,\n",
       "  35: '\\n本质上传递的是实参保存数据的引用，而不是实参保存的数据！\\n注意：如果函数有返回值，但是没有定义变量接收,程序不会报错，但是无法获得返回结果\\n',\n",
       "  36: '\\n本质上传递的是实参保存数据的引用，而不是实参保存的数据！\\n注意：如果函数有返回值，但是没有定义变量接收,程序不会报错，但是无法获得返回结果\\n',\n",
       "  37: 2,\n",
       "  39: 1395241152,\n",
       "  40: 1395241152,\n",
       "  52: 99,\n",
       "  57: 1395241824,\n",
       "  58: 1395241824,\n",
       "  59: 1395241824,\n",
       "  62: {...}},\n",
       " 'get_ipython': <bound method InteractiveShell.get_ipython of <ipykernel.zmqshell.ZMQInteractiveShell object at 0x000001C9F7475E48>>,\n",
       " 'exit': <IPython.core.autocall.ZMQExitAutocall at 0x1c9f7500b00>,\n",
       " 'quit': <IPython.core.autocall.ZMQExitAutocall at 0x1c9f7500b00>,\n",
       " '_': {...},\n",
       " '__': 1395241824,\n",
       " '___': 1395241824,\n",
       " 'site': <module 'site' from 'C:\\\\Users\\\\Hery\\\\Anaconda3\\\\envs\\\\kt\\\\lib\\\\site.py'>,\n",
       " 'os': <module 'os' from 'C:\\\\Users\\\\Hery\\\\Anaconda3\\\\envs\\\\kt\\\\lib\\\\os.py'>,\n",
       " 'sys': <module 'sys' (built-in)>,\n",
       " '__vsc_ipynb_file__': 'c:\\\\Users\\\\Hery\\\\Desktop\\\\newpy\\\\标准库.ipynb',\n",
       " '_i': 'class A():\\n    def __init__(self, name):\\n        self.name = name',\n",
       " '_ii': 'globals()',\n",
       " '_iii': \"import copy\\na = [1, 2, 3, 4, ['a', 'b']] #原始对象\\n \\nb = a                       #赋值，传对象的引用\\nc = copy.copy(a)            #对象拷贝，浅拷贝\\nd = copy.deepcopy(a)        #对象拷贝，深拷贝\\n \\na.append(5)                 #修改对象a\\na[4].append('c')            #修改对象a中的['a', 'b']数组对象\\n \\nprint( 'a = ', a )\\nprint( 'b = ', b )\\nprint( 'c = ', c )\\nprint( 'd = ', d )\",\n",
       " '_i1': 'var=input(\"please input sth\")',\n",
       " 'var': '36.6',\n",
       " '_i2': 'type(var)',\n",
       " '_2': str,\n",
       " '_i3': 'var=input(\"please input sth\")\\n\\'\\'\\'\\npython3.x整合raw_input()和input()，\\n去除raw_input()，只保留input()函数，\\n接受任意输入，默认所有输入为文字串处理，返回文字串类型。\\n\\'\\'\\'\\ntype(var)',\n",
       " '_3': str,\n",
       " '_i4': \"name = 'tom'\\nage = 15\\nweight = 72.3\\nstu_id = 1\\nprint('我是%s，我今年%d岁了，我的体重是%.2f公斤,我的学号是%06d' % (name, age, weight,stu_id))\\n#我是tom，我今年15岁了，我的体重是72.30公斤,我的学号是000001\",\n",
       " 'name': 'tom',\n",
       " 'age': 15,\n",
       " 'weight': 72.3,\n",
       " 'stu_id': 1,\n",
       " '_i5': 'import random\\nwhile(1):\\n    player = int(input(\"请输入您要出的拳 石头（1）／剪刀（2）／布（3）：\"))\\n    computer=random.randint(1,3)\\n    dic={1:\"石头\",2:\"剪刀\",3:\"布\"}\\n    print(\"玩家选择的是 %s（%d） - 电脑出的是 %s（%d）\" % (dic[player],player, dic[computer],computer))\\n    if player==computer:\\n        print(\"真是心有灵犀啊，再来一盘\")\\n    elif (player==1 and computer==2) or(player==2 and computer==3)or(player==3 and computer==1):\\n        print(\"欧耶，电脑弱爆了！\")\\n    else:\\n        print(\"不服气，我们决战到天明！\")',\n",
       " 'random': <module 'random' from 'C:\\\\Users\\\\Hery\\\\Anaconda3\\\\envs\\\\kt\\\\lib\\\\random.py'>,\n",
       " 'player': 1,\n",
       " 'computer': 2,\n",
       " 'dic': {1: '石头', 2: '剪刀', 3: '布'},\n",
       " '_i6': '# \\\\t 在控制台输出一个 制表符，协助在输出文本时 垂直方向 保持对齐\\nprint(\"1\\\\t2\\\\t3\")\\nprint(\"10\\\\t20\\\\t30\")\\n\\n# \\\\n 在控制台输出一个 换行符\\nprint(\"hello\\\\npython\")\\n\\n# \\\\\" 可以在控制台输出 \"\\nprint(\"hello\\\\\"hello\")',\n",
       " '_i7': 'for row in range(1,10):\\n    for col in range(1,10):\\n        if (col<=row):\\n            print(\"%d * %d = %d\"%(col,row,col*row),end=\"   \")       \\n    print(\"\")\\n    \\n#range(start,end,step) start=0 step=1\\n#前闭后开',\n",
       " 'row': 9,\n",
       " 'col': 9,\n",
       " '_i8': 'for row in range(1,10):\\n    for col in range(1,10):\\n        if (col<=row):\\n            print(\"%d * %d = %d\"%(col,row,col*row),end=\"\\\\t\")       \\n    print(\"\")\\n    \\n#range(start,end,step) start=0 step=1\\n#前闭后开',\n",
       " '_i9': 'name_list = [\"zhangsan\", \"lisi\", \"wangwu\"]',\n",
       " 'name_list': ['zhangsan', 'lisi', 'wangwu', '孙悟空', '猪二哥', '沙师弟'],\n",
       " '_i10': 'len(name_list)',\n",
       " '_10': 3,\n",
       " '_i11': '# 查找\\nprint(name_list.index(\"wangwu\"))#序号\\nprint(name_list[2])#序号',\n",
       " '_i12': '# 添加/删除最后一个元素\\nname_list.append(\"王小二\")#列表末尾添加元素\\nprint(name_list)\\nname_list.pop()#列表末尾添加元素\\nprint(name_list)',\n",
       " '_i13': '# 拼接列表\\ntemp_list = [\"孙悟空\", \"猪二哥\", \"沙师弟\"]\\nname_list.extend(temp_list)\\nprint(name_list)',\n",
       " 'temp_list': ['孙悟空', '猪二哥', '沙师弟'],\n",
       " '_i14': 'count = name_list.count(\"zhangsan\")#计数\\nprint(\"张三出现了 %d 次\" % count)',\n",
       " 'count': 2,\n",
       " '_i15': 'info_tuple = (\"zhangsan\", 18, 1.75, \"zhangsan\")',\n",
       " 'info_tuple': ('zhangsan', 18, 1.75, 'zhangsan'),\n",
       " '_i16': 'len(info_tuple)',\n",
       " '_16': 4,\n",
       " '_i17': '# 取值/取索引\\nprint(info_tuple[0])\\nprint(info_tuple.index(\"zhangsan\"))',\n",
       " '_i18': '# 取值/取索引\\nprint(info_tuple[2])\\nprint(info_tuple.index(\"zhangsan\"))',\n",
       " '_i19': '# 取值/取索引\\nprint(info_tuple[0])\\nprint(info_tuple.index(\"zhangsan\"))',\n",
       " '_i20': '# 计数\\ncount = name_list.count(\"zhangsan\")#计数\\nprint(\"张三出现了 %d 次\" % count)',\n",
       " '_i21': '# 计数\\ncount = info_tuple.count(\"zhangsan\")#计数\\nprint(\"张三出现了 %d 次\" % count)',\n",
       " '_i22': 'xiaoming_dict = {\"name\": \"小明\",\\n                 \"age\": 18}',\n",
       " 'xiaoming_dict': {'name': '小明', 'age': 20, 'height': 1.75},\n",
       " '_i23': '# 长度\\nlen(xiaoming_dict)',\n",
       " '_23': 2,\n",
       " '_i24': '# \\nkeys=list(xiaoming_dict.keys())\\nvalues=list(xiaoming_dict.values())\\nitems=list(xiaoming_dict.items())\\nprint(keys)\\nprint(values)\\nprint(items)',\n",
       " 'keys': ['name', 'age'],\n",
       " 'values': ['小明', 18],\n",
       " 'items': [('name', '小明'), ('age', 18)],\n",
       " '_i25': '# 拼接\\ntemp_dict = {\"height\": 1.75,\\n             \"age\": 20}\\n             \\n# 注意：如果被合并的字典中包含已经存在的键值对，会覆盖原有的键值对\\nxiaoming_dict.update(temp_dict)\\nprint(xiaoming_dict)',\n",
       " 'temp_dict': {'height': 1.75, 'age': 20},\n",
       " '_i26': '# 如果入参是变量，那么多值参数传递遵循拆包语法\\ndef test(*args, **kwargs):\\n    \\n    print(args)\\n    print(kwargs)\\n \\n \\ntup = (1, 2, 3)\\ndict = {\"name\":\"horizon\"}\\n \\ntest(*tup, **dict)  # 拆包语法',\n",
       " 'test': <function __main__.test(num)>,\n",
       " 'tup': (1, 2, 3),\n",
       " 'dict': {'name': 'horizon'},\n",
       " '_i27': 'def demo(num, *nums, **person):\\n\\n    print(num)\\n    print(nums)\\n    print(person)\\n\\n\\n# demo(1)\\ndemo(1, 2, 3, 4, 5, name=\"小明\", age=18)',\n",
       " 'demo': <function __main__.demo(num, *nums, **person)>,\n",
       " '_i28': 'def test(num):\\n    print(\"在函数内部 %d 对应的内存地址是 %d\" % (num, id(num)))\\n    return num+1',\n",
       " '_i29': 'test(1)',\n",
       " '_29': 2,\n",
       " '_i30': 'test(1)\\nid(1)',\n",
       " '_30': 1395241152,\n",
       " '_i31': 'a=1\\nb=test(1)',\n",
       " 'a': [1, 2, 3, 4, ['a', 'b', 'c'], 5],\n",
       " 'b': [1, 2, 3, 4, ['a', 'b', 'c'], 5],\n",
       " '_i32': 'a=1\\nb=test(1)\\nid(a)',\n",
       " '_32': 1395241152,\n",
       " '_i33': 'a=1\\nb=test(1)\\nid(a)\\nid(b)',\n",
       " '_33': 1395241184,\n",
       " '_i34': 'a',\n",
       " '_34': 1,\n",
       " '_i35': \"x=1\\ntest(x)\\n'''\\n本质上传递的是实参保存数据的引用，而不是实参保存的数据！\\n注意：如果函数有返回值，但是没有定义变量接收,程序不会报错，但是无法获得返回结果\\n'''\",\n",
       " 'x': 22,\n",
       " '_35': '\\n本质上传递的是实参保存数据的引用，而不是实参保存的数据！\\n注意：如果函数有返回值，但是没有定义变量接收,程序不会报错，但是无法获得返回结果\\n',\n",
       " '_i36': \"x=1\\ntest(x)\\n\\n'''\\n本质上传递的是实参保存数据的引用，而不是实参保存的数据！\\n注意：如果函数有返回值，但是没有定义变量接收,程序不会报错，但是无法获得返回结果\\n'''\",\n",
       " '_36': '\\n本质上传递的是实参保存数据的引用，而不是实参保存的数据！\\n注意：如果函数有返回值，但是没有定义变量接收,程序不会报错，但是无法获得返回结果\\n',\n",
       " '_i37': 'x=1\\ntest(x)\\n\\n\\n# 本质上传递的是实参保存数据的引用，而不是实参保存的数据！\\n# 注意：如果函数有返回值，但是没有定义变量接收,程序不会报错，但是无法获得返回结果',\n",
       " '_37': 2,\n",
       " '_i38': 'x=1\\ny=test(x)\\n\\n\\n# 本质上传递的是实参保存数据的引用，而不是实参保存的数据！\\n# 注意：如果函数有返回值，但是没有定义变量接收,程序不会报错，但是无法获得返回结果',\n",
       " 'y': 22,\n",
       " '_i39': 'x=1\\ny=test(x)\\nid(x)\\n\\n\\n# 本质上传递的是实参保存数据的引用，而不是实参保存的数据！\\n# 注意：如果函数有返回值，但是没有定义变量接收,程序不会报错，但是无法获得返回结果',\n",
       " '_39': 1395241152,\n",
       " '_i40': 'x=1\\nid(x)\\nid(1)\\n\\n\\n\\n# 本质上传递的是实参保存数据的引用，而不是实参保存的数据！\\n# 注意：如果函数有返回值，但是没有定义变量接收,程序不会报错，但是无法获得返回结果',\n",
       " '_40': 1395241152,\n",
       " '_i41': 'x=1\\nprint(id(x))\\nprint(id(1))\\n\\n\\n\\n# 本质上传递的是实参保存数据的引用，而不是实参保存的数据！\\n# 注意：如果函数有返回值，但是没有定义变量接收,程序不会报错，但是无法获得返回结果',\n",
       " '_i42': 'x=1\\nprint(id(x))\\nprint(id(1))\\n\\ny=test(x)\\n\\nprint(id(x))\\nprint(id(1))\\n\\n\\n# 本质上传递的是实参保存数据的引用，而不是实参保存的数据！\\n# 注意：如果函数有返回值，但是没有定义变量接收,程序不会报错，但是无法获得返回结果',\n",
       " '_i43': 'x=1\\nprint(id(x))\\nprint(id(1))\\n\\ny=test(x)\\n\\nprint(id(x))\\nprint(id(1))\\n\\nprint(id(y))\\nprint(id(2))\\n\\n\\n# 本质上传递的是实参保存数据的引用，而不是实参保存的数据！\\n# 注意：如果函数有返回值，但是没有定义变量接收,程序不会报错，但是无法获得返回结果',\n",
       " '_i44': 'def test(num):\\n    print(\"在函数内部 %d 对应的内存地址是 %d\" % (num, id(num)))\\n    print(\"--------------------------------------------------------------------------\")\\n\\n    result = \"Hello\"\\n    print(\"函数返回数据的内存地址是 %d\" % id(result))\\n    return result',\n",
       " '_i45': '# 1. 定义一个数字的变量\\nx = 10\\nprint(\"x=%d 变量保存数据的内存地址是 %d\" %  ( x,id(x) ) )\\n\\n\\n# 本质上传递的是实参保存数据的引用，而不是实参保存的数据！\\n# 注意：如果函数有返回值，但是没有定义变量接收,程序不会报错，但是无法获得返回结果',\n",
       " '_i46': '# 1. 定义一个数字的变量\\nx = 10\\nprint(\"x=%d 变量保存数据的内存地址是 %d\" %  ( x,id(x) ) )\\n\\n# 2. 调用 test 函数，本质上传递的是实参保存数据的引用，而不是实参保存的数据！\\n# 注意：如果函数有返回值，但是没有定义变量接收,程序不会报错，但是无法获得返回结果.\\ny = test(x)\\nprint(\"%s 的内存地址是 %d\" % (y, id(y)))',\n",
       " '_i47': 'demo2()\\ndemo1()',\n",
       " '_i48': 'num = 10\\n\\ndef demo2():\\n    num = 99\\n    print(\"demo2 ==> %d\" % num)\\n\\n\\ndef demo1():\\n\\n    # 希望修改全局变量的值 - 使用 global 声明一下变量即可\\n    # global 关键字会告诉解释器后面的变量是一个全局变量\\n    # 再使用赋值语句时，则不会创建局部变量\\n    global num\\n\\n    num = 99\\n\\n    print(\"demo1 ==> %d\" % num)',\n",
       " 'num': 99,\n",
       " 'demo2': <function __main__.demo2()>,\n",
       " 'demo1': <function __main__.demo1()>,\n",
       " '_i49': 'demo2()\\ndemo1()',\n",
       " '_i50': 'num = 10\\n\\ndef demo1():\\n\\n    # 希望修改全局变量的值  -  使用 global 声明一下变量即可\\n    # global 关键字会告诉解释器后面的变量是一个全局变量\\n    # 再使用赋值语句时，则不会创建局部变量\\n    global num\\n\\n    num = 99\\n\\n    print(\"demo1 ==> %d\" % num)',\n",
       " '_i51': '\\ndemo1()',\n",
       " '_i52': '\\ndemo1()\\nnum',\n",
       " '_52': 99,\n",
       " '_i53': 'demo1()\\nprint(num)',\n",
       " '_i54': 'num = 10\\n\\ndef demo1():\\n    # 希望修改全局变量的值  -  使用 global 声明一下变量即可\\n    # global 关键字会告诉解释器后面的变量是一个全局变量\\n    # 再使用赋值语句时，则不会创建局部变量\\n    global num\\n    num = 99\\n    print(\"demo1 ==> %d\" % num)',\n",
       " '_i55': 'demo1()\\nprint(num)',\n",
       " '_i56': 'x=22\\ny=x',\n",
       " '_i57': 'id(x)\\nid(y)',\n",
       " '_57': 1395241824,\n",
       " '_i58': 'id(y)',\n",
       " '_58': 1395241824,\n",
       " '_i59': 'id(x)',\n",
       " '_59': 1395241824,\n",
       " '_i60': 'x.copy()',\n",
       " '_i61': \"import copy\\na = [1, 2, 3, 4, ['a', 'b']] #原始对象\\n \\nb = a                       #赋值，传对象的引用\\nc = copy.copy(a)            #对象拷贝，浅拷贝\\nd = copy.deepcopy(a)        #对象拷贝，深拷贝\\n \\na.append(5)                 #修改对象a\\na[4].append('c')            #修改对象a中的['a', 'b']数组对象\\n \\nprint( 'a = ', a )\\nprint( 'b = ', b )\\nprint( 'c = ', c )\\nprint( 'd = ', d )\",\n",
       " 'copy': <module 'copy' from 'C:\\\\Users\\\\Hery\\\\Anaconda3\\\\envs\\\\kt\\\\lib\\\\copy.py'>,\n",
       " 'c': [1, 2, 3, 4, ['a', 'b', 'c']],\n",
       " 'd': [1, 2, 3, 4, ['a', 'b']],\n",
       " '_i62': 'globals()',\n",
       " '_62': {...},\n",
       " '_i63': 'class A():\\n    def __init__(self, name):\\n        self.name = name',\n",
       " 'A': __main__.A,\n",
       " '_i64': 'locals()'}"
      ]
     },
     "execution_count": 64,
     "metadata": {},
     "output_type": "execute_result"
    }
   ],
   "source": [
    "locals()"
   ]
  },
  {
   "cell_type": "code",
   "execution_count": null,
   "metadata": {},
   "outputs": [],
   "source": [
    "    previous = None\n",
    "    offline_act_order = []\n",
    "    for i in range(len(predict)): \n",
    "        yi = predict[i]  # 此帧act类型\n",
    "\n",
    "        if(yi != previous):  # 新act\n",
    "            act_dict[yi] += 1\n",
    "            classname = yi.capitalize()\n",
    "            objname = yi+str(act_dict[yi])\n",
    "\n",
    "            locals()[objname] = globals()[classname](objname) # 动态实例化\n",
    "            locals()[objname].begin = i\n",
    "            locals()[objname].name = objname\n",
    "\n",
    "            offline_act_order.append(locals()[objname])\n",
    "\n",
    "        else:  # 旧act\n",
    "            objname = yi+str(act_dict[yi])\n",
    "            locals()[objname].end = i\n",
    "            \n",
    "        previous = predict[i]  # 更新上一帧"
   ]
  }
 ],
 "metadata": {
  "interpreter": {
   "hash": "8aca0c48dc24c87259661e18ebfb2f7ede969dc974c31f6786133b888bc4b3d7"
  },
  "kernelspec": {
   "display_name": "Python 3.6.12 ('kt')",
   "language": "python",
   "name": "python3"
  },
  "language_info": {
   "codemirror_mode": {
    "name": "ipython",
    "version": 3
   },
   "file_extension": ".py",
   "mimetype": "text/x-python",
   "name": "python",
   "nbconvert_exporter": "python",
   "pygments_lexer": "ipython3",
   "version": "3.6.12"
  },
  "orig_nbformat": 4
 },
 "nbformat": 4,
 "nbformat_minor": 2
}
